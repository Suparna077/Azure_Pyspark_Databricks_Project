{
 "cells": [
  {
   "cell_type": "code",
   "execution_count": 0,
   "metadata": {
    "application/vnd.databricks.v1+cell": {
     "cellMetadata": {
      "byteLimit": 2048000,
      "rowLimit": 10000
     },
     "inputWidgets": {},
     "nuid": "8f9d25d8-6dcd-44e9-ab69-aea211f3ee51",
     "showTitle": false,
     "tableResultSettingsMap": {},
     "title": ""
    }
   },
   "outputs": [
    {
     "output_type": "display_data",
     "data": {
      "text/html": [
       "<style scoped>\n",
       "  .table-result-container {\n",
       "    max-height: 300px;\n",
       "    overflow: auto;\n",
       "  }\n",
       "  table, th, td {\n",
       "    border: 1px solid black;\n",
       "    border-collapse: collapse;\n",
       "  }\n",
       "  th, td {\n",
       "    padding: 5px;\n",
       "  }\n",
       "  th {\n",
       "    text-align: left;\n",
       "  }\n",
       "</style><div class='table-result-container'><table class='table-result'><thead style='background-color: white'><tr><th>Username</th><th> Identifier</th><th>First name</th><th>Last name</th><th>id</th></tr></thead><tbody><tr><td>johnson81</td><td>4081</td><td>Craig</td><td>Johnson</td><td>1</td></tr><tr><td>jenkins46</td><td>9346</td><td>Mary</td><td>Jenkins</td><td>2</td></tr><tr><td>smith79</td><td>5079</td><td>Jamie</td><td>Smith</td><td>3</td></tr><tr><td>johnson81</td><td>4081</td><td>Craig</td><td>Johnson</td><td>0</td></tr><tr><td>johnson81</td><td>4081</td><td>Craig</td><td>Johnson</td><td>1</td></tr><tr><td>jenkins46</td><td>9346</td><td>Mary</td><td>Jenkins</td><td>2</td></tr><tr><td>smith79</td><td>5079</td><td>Jamie</td><td>Smith</td><td>3</td></tr></tbody></table></div>"
      ]
     },
     "metadata": {
      "application/vnd.databricks.v1+output": {
       "addedWidgets": {},
       "aggData": [],
       "aggError": "",
       "aggOverflow": false,
       "aggSchema": [],
       "aggSeriesLimitReached": false,
       "aggType": "",
       "arguments": {},
       "columnCustomDisplayInfos": {},
       "data": [
        [
         "johnson81",
         4081,
         "Craig",
         "Johnson",
         "1"
        ],
        [
         "jenkins46",
         9346,
         "Mary",
         "Jenkins",
         "2"
        ],
        [
         "smith79",
         5079,
         "Jamie",
         "Smith",
         "3"
        ],
        [
         "johnson81",
         4081,
         "Craig",
         "Johnson",
         "0"
        ],
        [
         "johnson81",
         4081,
         "Craig",
         "Johnson",
         "1"
        ],
        [
         "jenkins46",
         9346,
         "Mary",
         "Jenkins",
         "2"
        ],
        [
         "smith79",
         5079,
         "Jamie",
         "Smith",
         "3"
        ]
       ],
       "datasetInfos": [],
       "dbfsResultPath": null,
       "isJsonSchema": true,
       "metadata": {},
       "overflow": false,
       "plotOptions": {
        "customPlotOptions": {},
        "displayType": "table",
        "pivotAggregation": null,
        "pivotColumns": null,
        "xColumns": null,
        "yColumns": null
       },
       "removedWidgets": [],
       "schema": [
        {
         "metadata": "{\"isTimestampNTZ\":false,\"signed\":false,\"scale\":0}",
         "name": "Username",
         "type": "\"string\""
        },
        {
         "metadata": "{\"isTimestampNTZ\":false,\"signed\":true,\"scale\":0}",
         "name": " Identifier",
         "type": "\"long\""
        },
        {
         "metadata": "{\"isTimestampNTZ\":false,\"signed\":false,\"scale\":0}",
         "name": "First name",
         "type": "\"string\""
        },
        {
         "metadata": "{\"isTimestampNTZ\":false,\"signed\":false,\"scale\":0}",
         "name": "Last name",
         "type": "\"string\""
        },
        {
         "metadata": "{\"isTimestampNTZ\":false,\"signed\":false,\"scale\":0}",
         "name": "id",
         "type": "\"string\""
        }
       ],
       "type": "table"
      }
     },
     "output_type": "display_data"
    }
   ],
   "source": [
    "server_name = \"jdbc:sqlserver://suparna07.database.windows.net\"\n",
    "database_name = \"AdventureWorks\"\n",
    "url = server_name + \";\" + \"databaseName=\" + database_name + \";\"\n",
    "\n",
    "table_name = \"Sample07\"\n",
    "username = \"\"\n",
    "password = \"\"\n",
    "\n",
    "try:\n",
    "    DF_SQLDB_Read = (spark.read \\\n",
    "    .format(\"com.microsoft.sqlserver.jdbc.spark\") \\\n",
    "    .option(\"url\" , url) \\\n",
    "    .option(\"dbtable\" , table_name) \\\n",
    "    .option(\"user\" , username) \\\n",
    "    .option(\"password\" , password) \\\n",
    "    .load())\n",
    "    display(DF_SQLDB_Read)\n",
    "except ValueError as e:\n",
    "    print(\"Cannot connect with the DB\")"
   ]
  },
  {
   "cell_type": "code",
   "execution_count": 0,
   "metadata": {
    "application/vnd.databricks.v1+cell": {
     "cellMetadata": {
      "byteLimit": 2048000,
      "rowLimit": 10000
     },
     "inputWidgets": {},
     "nuid": "ee2fc7d2-3280-41a3-8f86-7222d355b339",
     "showTitle": false,
     "tableResultSettingsMap": {},
     "title": ""
    }
   },
   "outputs": [
    {
     "output_type": "display_data",
     "data": {
      "text/html": [
       "<style scoped>\n",
       "  .table-result-container {\n",
       "    max-height: 300px;\n",
       "    overflow: auto;\n",
       "  }\n",
       "  table, th, td {\n",
       "    border: 1px solid black;\n",
       "    border-collapse: collapse;\n",
       "  }\n",
       "  th, td {\n",
       "    padding: 5px;\n",
       "  }\n",
       "  th {\n",
       "    text-align: left;\n",
       "  }\n",
       "</style><div class='table-result-container'><table class='table-result'><thead style='background-color: white'><tr><th>Username</th><th> Identifier</th><th>First name</th><th>Last name</th><th>id</th></tr></thead><tbody><tr><td>johnson81</td><td>4081</td><td>Craig</td><td>Johnson</td><td>0</td></tr><tr><td>jenkins46</td><td>9346</td><td>Mary</td><td>Jenkins</td><td>1</td></tr><tr><td>smith79</td><td>5079</td><td>Jamie</td><td>Smith</td><td>2</td></tr><tr><td>johnson81</td><td>4081</td><td>Craig</td><td>Johnson</td><td>3</td></tr><tr><td>johnson81</td><td>4081</td><td>Craig</td><td>Johnson</td><td>4</td></tr><tr><td>jenkins46</td><td>9346</td><td>Mary</td><td>Jenkins</td><td>5</td></tr><tr><td>smith79</td><td>5079</td><td>Jamie</td><td>Smith</td><td>6</td></tr></tbody></table></div>"
      ]
     },
     "metadata": {
      "application/vnd.databricks.v1+output": {
       "addedWidgets": {},
       "aggData": [],
       "aggError": "",
       "aggOverflow": false,
       "aggSchema": [],
       "aggSeriesLimitReached": false,
       "aggType": "",
       "arguments": {},
       "columnCustomDisplayInfos": {},
       "data": [
        [
         "johnson81",
         4081,
         "Craig",
         "Johnson",
         "0"
        ],
        [
         "jenkins46",
         9346,
         "Mary",
         "Jenkins",
         "1"
        ],
        [
         "smith79",
         5079,
         "Jamie",
         "Smith",
         "2"
        ],
        [
         "johnson81",
         4081,
         "Craig",
         "Johnson",
         "3"
        ],
        [
         "johnson81",
         4081,
         "Craig",
         "Johnson",
         "4"
        ],
        [
         "jenkins46",
         9346,
         "Mary",
         "Jenkins",
         "5"
        ],
        [
         "smith79",
         5079,
         "Jamie",
         "Smith",
         "6"
        ]
       ],
       "datasetInfos": [],
       "dbfsResultPath": null,
       "isJsonSchema": true,
       "metadata": {},
       "overflow": false,
       "plotOptions": {
        "customPlotOptions": {},
        "displayType": "table",
        "pivotAggregation": null,
        "pivotColumns": null,
        "xColumns": null,
        "yColumns": null
       },
       "removedWidgets": [],
       "schema": [
        {
         "metadata": "{\"isTimestampNTZ\":false,\"signed\":false,\"scale\":0}",
         "name": "Username",
         "type": "\"string\""
        },
        {
         "metadata": "{\"isTimestampNTZ\":false,\"signed\":true,\"scale\":0}",
         "name": " Identifier",
         "type": "\"long\""
        },
        {
         "metadata": "{\"isTimestampNTZ\":false,\"signed\":false,\"scale\":0}",
         "name": "First name",
         "type": "\"string\""
        },
        {
         "metadata": "{\"isTimestampNTZ\":false,\"signed\":false,\"scale\":0}",
         "name": "Last name",
         "type": "\"string\""
        },
        {
         "metadata": "{}",
         "name": "id",
         "type": "\"string\""
        }
       ],
       "type": "table"
      }
     },
     "output_type": "display_data"
    }
   ],
   "source": [
    "from pyspark.sql.functions import monotonically_increasing_id\n",
    "# print(DF_SQLDB_Read.count())\n",
    "DF_SQLDB_Read_With_ID = DF_SQLDB_Read.withColumn(\"id\" , monotonically_increasing_id().cast(\"string\"))\n",
    "display(DF_SQLDB_Read_With_ID)"
   ]
  },
  {
   "cell_type": "code",
   "execution_count": 0,
   "metadata": {
    "application/vnd.databricks.v1+cell": {
     "cellMetadata": {
      "byteLimit": 2048000,
      "rowLimit": 10000
     },
     "inputWidgets": {},
     "nuid": "3114a4d6-012b-48ec-83cb-f21f42d31447",
     "showTitle": false,
     "tableResultSettingsMap": {},
     "title": ""
    }
   },
   "outputs": [
    {
     "output_type": "display_data",
     "data": {
      "text/html": [
       "<style scoped>\n",
       "  .table-result-container {\n",
       "    max-height: 300px;\n",
       "    overflow: auto;\n",
       "  }\n",
       "  table, th, td {\n",
       "    border: 1px solid black;\n",
       "    border-collapse: collapse;\n",
       "  }\n",
       "  th, td {\n",
       "    padding: 5px;\n",
       "  }\n",
       "  th {\n",
       "    text-align: left;\n",
       "  }\n",
       "</style><div class='table-result-container'><table class='table-result'><thead style='background-color: white'><tr><th>Username</th><th> Identifier</th><th>First name</th><th>Last name</th><th>id</th></tr></thead><tbody><tr><td>johnson81</td><td>4081</td><td>Craig</td><td>Johnson</td><td>1</td></tr><tr><td>johnson81</td><td>4081</td><td>Craig</td><td>Johnson</td><td>2</td></tr><tr><td>jenkins46</td><td>9346</td><td>Mary</td><td>Jenkins</td><td>3</td></tr><tr><td>smith79</td><td>5079</td><td>Jamie</td><td>Smith</td><td>4</td></tr></tbody></table></div>"
      ]
     },
     "metadata": {
      "application/vnd.databricks.v1+output": {
       "addedWidgets": {},
       "aggData": [],
       "aggError": "",
       "aggOverflow": false,
       "aggSchema": [],
       "aggSeriesLimitReached": false,
       "aggType": "",
       "arguments": {},
       "columnCustomDisplayInfos": {},
       "data": [
        [
         "johnson81",
         4081,
         "Craig",
         "Johnson",
         "1"
        ],
        [
         "johnson81",
         4081,
         "Craig",
         "Johnson",
         "2"
        ],
        [
         "jenkins46",
         9346,
         "Mary",
         "Jenkins",
         "3"
        ],
        [
         "smith79",
         5079,
         "Jamie",
         "Smith",
         "4"
        ]
       ],
       "datasetInfos": [],
       "dbfsResultPath": null,
       "isJsonSchema": true,
       "metadata": {},
       "overflow": false,
       "plotOptions": {
        "customPlotOptions": {},
        "displayType": "table",
        "pivotAggregation": null,
        "pivotColumns": null,
        "xColumns": null,
        "yColumns": null
       },
       "removedWidgets": [],
       "schema": [
        {
         "metadata": "{}",
         "name": "Username",
         "type": "\"string\""
        },
        {
         "metadata": "{}",
         "name": " Identifier",
         "type": "\"long\""
        },
        {
         "metadata": "{}",
         "name": "First name",
         "type": "\"string\""
        },
        {
         "metadata": "{}",
         "name": "Last name",
         "type": "\"string\""
        },
        {
         "metadata": "{}",
         "name": "id",
         "type": "\"string\""
        }
       ],
       "type": "table"
      }
     },
     "output_type": "display_data"
    }
   ],
   "source": [
    "from pyspark.sql import Window\n",
    "from pyspark.sql.functions import row_number\n",
    "\n",
    "\n",
    "DF_AzureSQLDB_Upsert = spark.createDataFrame(DF_SQLDB_Read_With_ID.tail(4))\n",
    "DF_AzureSQLDB_Upsert = DF_AzureSQLDB_Upsert.withColumn(\"counter\", monotonically_increasing_id())\n",
    "w = Window.orderBy(\"counter\")\n",
    "# Use row number with the window specification\n",
    "DF_AzureSQLDB_Upsert = DF_AzureSQLDB_Upsert.withColumn(\"id\", row_number().over(w).cast(\"string\"))\n",
    "DF_AzureSQLDB_Upsert = DF_AzureSQLDB_Upsert.drop('counter')\n",
    "display(DF_AzureSQLDB_Upsert)"
   ]
  },
  {
   "cell_type": "code",
   "execution_count": 0,
   "metadata": {
    "application/vnd.databricks.v1+cell": {
     "cellMetadata": {
      "byteLimit": 2048000,
      "rowLimit": 10000
     },
     "inputWidgets": {},
     "nuid": "07d3e9bd-708f-435a-976c-ea3c7baea676",
     "showTitle": false,
     "tableResultSettingsMap": {},
     "title": ""
    }
   },
   "outputs": [
    {
     "output_type": "display_data",
     "data": {
      "text/html": [
       "<style scoped>\n",
       "  .table-result-container {\n",
       "    max-height: 300px;\n",
       "    overflow: auto;\n",
       "  }\n",
       "  table, th, td {\n",
       "    border: 1px solid black;\n",
       "    border-collapse: collapse;\n",
       "  }\n",
       "  th, td {\n",
       "    padding: 5px;\n",
       "  }\n",
       "  th {\n",
       "    text-align: left;\n",
       "  }\n",
       "</style><div class='table-result-container'><table class='table-result'><thead style='background-color: white'><tr><th>Username</th><th> Identifier</th><th>First name</th><th>Last name</th><th>id</th></tr></thead><tbody><tr><td>johnson81</td><td>4081</td><td>Craig</td><td>Johnson</td><td>0</td></tr><tr><td>johnson81</td><td>4081</td><td>Craig</td><td>Johnson</td><td>1</td></tr><tr><td>johnson81</td><td>4081</td><td>Craig</td><td>Johnson</td><td>2</td></tr><tr><td>jenkins46</td><td>9346</td><td>Mary</td><td>Jenkins</td><td>3</td></tr><tr><td>smith79</td><td>5079</td><td>Jamie</td><td>Smith</td><td>4</td></tr><tr><td>jenkins46</td><td>9346</td><td>Mary</td><td>Jenkins</td><td>5</td></tr><tr><td>smith79</td><td>5079</td><td>Jamie</td><td>Smith</td><td>6</td></tr></tbody></table></div>"
      ]
     },
     "metadata": {
      "application/vnd.databricks.v1+output": {
       "addedWidgets": {},
       "aggData": [],
       "aggError": "",
       "aggOverflow": false,
       "aggSchema": [],
       "aggSeriesLimitReached": false,
       "aggType": "",
       "arguments": {},
       "columnCustomDisplayInfos": {},
       "data": [
        [
         "johnson81",
         4081,
         "Craig",
         "Johnson",
         "0"
        ],
        [
         "johnson81",
         4081,
         "Craig",
         "Johnson",
         "1"
        ],
        [
         "johnson81",
         4081,
         "Craig",
         "Johnson",
         "2"
        ],
        [
         "jenkins46",
         9346,
         "Mary",
         "Jenkins",
         "3"
        ],
        [
         "smith79",
         5079,
         "Jamie",
         "Smith",
         "4"
        ],
        [
         "jenkins46",
         9346,
         "Mary",
         "Jenkins",
         "5"
        ],
        [
         "smith79",
         5079,
         "Jamie",
         "Smith",
         "6"
        ]
       ],
       "datasetInfos": [],
       "dbfsResultPath": null,
       "isJsonSchema": true,
       "metadata": {},
       "overflow": false,
       "plotOptions": {
        "customPlotOptions": {},
        "displayType": "table",
        "pivotAggregation": null,
        "pivotColumns": null,
        "xColumns": null,
        "yColumns": null
       },
       "removedWidgets": [],
       "schema": [
        {
         "metadata": "{\"isTimestampNTZ\":false,\"signed\":false,\"scale\":0}",
         "name": "Username",
         "type": "\"string\""
        },
        {
         "metadata": "{\"isTimestampNTZ\":false,\"signed\":true,\"scale\":0}",
         "name": " Identifier",
         "type": "\"long\""
        },
        {
         "metadata": "{\"isTimestampNTZ\":false,\"signed\":false,\"scale\":0}",
         "name": "First name",
         "type": "\"string\""
        },
        {
         "metadata": "{\"isTimestampNTZ\":false,\"signed\":false,\"scale\":0}",
         "name": "Last name",
         "type": "\"string\""
        },
        {
         "metadata": "{}",
         "name": "id",
         "type": "\"string\""
        }
       ],
       "type": "table"
      }
     },
     "output_type": "display_data"
    }
   ],
   "source": [
    "from pyspark.sql.functions import col\n",
    "\n",
    "DF_SQLDB_Read_With_ID_OLD = DF_SQLDB_Read_With_ID.alias(\"target\") \\\n",
    "    .join(DF_AzureSQLDB_Upsert.alias(\"source\"), \\\n",
    "        col(\"source.id\") == col(\"target.id\") ,\n",
    "        how='leftanti')\n",
    "    \n",
    "DF_Final = DF_SQLDB_Read_With_ID_OLD.union(DF_AzureSQLDB_Upsert).sort('id')\n",
    "    \n",
    "display(DF_Final)"
   ]
  },
  {
   "cell_type": "code",
   "execution_count": 0,
   "metadata": {
    "application/vnd.databricks.v1+cell": {
     "cellMetadata": {
      "byteLimit": 2048000,
      "rowLimit": 10000
     },
     "inputWidgets": {},
     "nuid": "c9a40e03-5781-435e-ba26-86523a1ab714",
     "showTitle": false,
     "tableResultSettingsMap": {},
     "title": ""
    }
   },
   "outputs": [],
   "source": [
    "%sh\n",
    "if ! [[ \"16.04 18.04 20.04 22.04\" == *\"$(lsb_release -rs)\"* ]];\n",
    "then\n",
    "    echo \"Ubuntu $(lsb_release -rs) is not currently supported.\";\n",
    "    exit;\n",
    "fi\n",
    "\n",
    "curl https://packages.microsoft.com/keys/microsoft.asc | sudo tee /etc/apt/trusted.gpg.d/microsoft.asc\n",
    "\n",
    "curl https://packages.microsoft.com/config/ubuntu/$(lsb_release -rs)/prod.list | sudo tee /etc/apt/sources.list.d/mssql-release.list\n",
    "\n",
    "sudo apt-get update\n",
    "sudo ACCEPT_EULA=Y apt-get install -y msodbcsql17\n",
    "# optional: for bcp and sqlcmd\n",
    "sudo ACCEPT_EULA=Y apt-get install -y mssql-tools\n",
    "echo 'export PATH=\"$PATH:/opt/mssql-tools/bin\"' >> ~/.bashrc\n",
    "source ~/.bashrc\n",
    "# optional: for unixODBC development headers\n",
    "sudo apt-get install -y unixodbc-dev"
   ]
  },
  {
   "cell_type": "code",
   "execution_count": 0,
   "metadata": {
    "application/vnd.databricks.v1+cell": {
     "cellMetadata": {
      "byteLimit": 2048000,
      "rowLimit": 10000
     },
     "inputWidgets": {},
     "nuid": "13bd037f-db70-45ca-8eca-23435aa58ffb",
     "showTitle": false,
     "tableResultSettingsMap": {},
     "title": ""
    }
   },
   "outputs": [],
   "source": [
    "import pyodbc\n",
    "\n",
    "server = 'suparna07.database.windows.net,1433'\n",
    "database = database_name\n",
    "username = username\n",
    "password = password\n",
    "\n",
    "conn_str = f'DRIVER={{ODBC Driver 17 for SQL Server}};SERVER={server};DATABASE={database};UID={username};PWD={password}'\n",
    "\n",
    "conn =pyodbc.connect(conn_str)\n",
    "cursor = conn.cursor()\n",
    "\n",
    "\n",
    "drop_query = \"Drop table dbo.Sample07\"\n",
    "cursor.execute(drop_query)\n",
    "conn.commit()"
   ]
  },
  {
   "cell_type": "code",
   "execution_count": 0,
   "metadata": {
    "application/vnd.databricks.v1+cell": {
     "cellMetadata": {
      "byteLimit": 2048000,
      "rowLimit": 10000
     },
     "inputWidgets": {},
     "nuid": "4254fefd-e313-47f5-9630-b1cbb0f99fde",
     "showTitle": false,
     "tableResultSettingsMap": {},
     "title": ""
    }
   },
   "outputs": [],
   "source": [
    "host = \"suparna07.database.windows.net\"\n",
    "port = \"1433\"\n",
    "database = \"AdventureWorks\"\n",
    "\n",
    "numberCores = spark.sparkContext.defaultParallelism\n",
    "\n",
    "\n",
    "try:\n",
    " DF_Final.write \\\n",
    "   .mode(\"default\") \\\n",
    "   .format(\"sqlserver\") \\\n",
    "   .option(\"host\" , host) \\\n",
    "   .option(\"port\" , port) \\\n",
    "   .option(\"databasename\" , database) \\\n",
    "   .option(\"dbtable\" , table_name) \\\n",
    "   .option(\"user\",username) \\\n",
    "   .option(\"password\",password) \\\n",
    "   .option(\"numPartitions\", numberCores) \\\n",
    "   .option(\"tableLock\", \"true\") \\\n",
    "   .option(\"driver\" , \"com.microsoft.sqlserver.jdbc.SQLServerDriver\" ) \\\n",
    "   .save()\n",
    "except ValueError as error :\n",
    "    print(\"Connector write failed\", error)"
   ]
  }
 ],
 "metadata": {
  "application/vnd.databricks.v1+notebook": {
   "computePreferences": null,
   "dashboards": [],
   "environmentMetadata": {
    "base_environment": "",
    "client": "1"
   },
   "language": "python",
   "notebookMetadata": {
    "mostRecentlyExecutedCommandWithImplicitDF": {
     "commandId": 1765626273243560,
     "dataframes": [
      "_sqldf"
     ]
    },
    "pythonIndentUnit": 4
   },
   "notebookName": "AzureSQLDB_Upsert",
   "widgets": {}
  }
 },
 "nbformat": 4,
 "nbformat_minor": 0
}
