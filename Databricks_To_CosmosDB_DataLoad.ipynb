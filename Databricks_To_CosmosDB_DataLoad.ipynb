{
 "cells": [
  {
   "cell_type": "code",
   "execution_count": 0,
   "metadata": {
    "application/vnd.databricks.v1+cell": {
     "cellMetadata": {
      "byteLimit": 2048000,
      "rowLimit": 10000
     },
     "inputWidgets": {},
     "nuid": "d05297af-8d78-471f-a7ec-2e636a52f481",
     "showTitle": false,
     "tableResultSettingsMap": {},
     "title": ""
    }
   },
   "outputs": [
    {
     "output_type": "display_data",
     "data": {
      "text/html": [
       "<style scoped>\n",
       "  .table-result-container {\n",
       "    max-height: 300px;\n",
       "    overflow: auto;\n",
       "  }\n",
       "  table, th, td {\n",
       "    border: 1px solid black;\n",
       "    border-collapse: collapse;\n",
       "  }\n",
       "  th, td {\n",
       "    padding: 5px;\n",
       "  }\n",
       "  th {\n",
       "    text-align: left;\n",
       "  }\n",
       "</style><div class='table-result-container'><table class='table-result'><thead style='background-color: white'><tr><th>Username</th><th> Identifier</th><th>First name</th><th>Last name</th></tr></thead><tbody><tr><td>booker12</td><td>9012</td><td>Rachel</td><td>Booker</td></tr><tr><td>grey07</td><td>2070</td><td>Laura</td><td>Grey</td></tr><tr><td>johnson81</td><td>4081</td><td>Craig</td><td>Johnson</td></tr><tr><td>jenkins46</td><td>9346</td><td>Mary</td><td>Jenkins</td></tr><tr><td>smith79</td><td>5079</td><td>Jamie</td><td>Smith</td></tr><tr><td>booker12</td><td>9012</td><td>Rachel</td><td>Booker</td></tr><tr><td>grey07</td><td>2070</td><td>Laura</td><td>Grey</td></tr><tr><td>johnson81</td><td>4081</td><td>Craig</td><td>Johnson</td></tr><tr><td>jenkins46</td><td>9346</td><td>Mary</td><td>Jenkins</td></tr><tr><td>smith79</td><td>5079</td><td>Jamie</td><td>Smith</td></tr></tbody></table></div>"
      ]
     },
     "metadata": {
      "application/vnd.databricks.v1+output": {
       "addedWidgets": {},
       "aggData": [],
       "aggError": "",
       "aggOverflow": false,
       "aggSchema": [],
       "aggSeriesLimitReached": false,
       "aggType": "",
       "arguments": {},
       "columnCustomDisplayInfos": {},
       "data": [
        [
         "booker12",
         9012,
         "Rachel",
         "Booker"
        ],
        [
         "grey07",
         2070,
         "Laura",
         "Grey"
        ],
        [
         "johnson81",
         4081,
         "Craig",
         "Johnson"
        ],
        [
         "jenkins46",
         9346,
         "Mary",
         "Jenkins"
        ],
        [
         "smith79",
         5079,
         "Jamie",
         "Smith"
        ],
        [
         "booker12",
         9012,
         "Rachel",
         "Booker"
        ],
        [
         "grey07",
         2070,
         "Laura",
         "Grey"
        ],
        [
         "johnson81",
         4081,
         "Craig",
         "Johnson"
        ],
        [
         "jenkins46",
         9346,
         "Mary",
         "Jenkins"
        ],
        [
         "smith79",
         5079,
         "Jamie",
         "Smith"
        ]
       ],
       "datasetInfos": [],
       "dbfsResultPath": null,
       "isJsonSchema": true,
       "metadata": {},
       "overflow": false,
       "plotOptions": {
        "customPlotOptions": {},
        "displayType": "table",
        "pivotAggregation": null,
        "pivotColumns": null,
        "xColumns": null,
        "yColumns": null
       },
       "removedWidgets": [],
       "schema": [
        {
         "metadata": "{\"isTimestampNTZ\":false,\"signed\":false,\"scale\":0}",
         "name": "Username",
         "type": "\"string\""
        },
        {
         "metadata": "{\"isTimestampNTZ\":false,\"signed\":true,\"scale\":0}",
         "name": " Identifier",
         "type": "\"integer\""
        },
        {
         "metadata": "{\"isTimestampNTZ\":false,\"signed\":false,\"scale\":0}",
         "name": "First name",
         "type": "\"string\""
        },
        {
         "metadata": "{\"isTimestampNTZ\":false,\"signed\":false,\"scale\":0}",
         "name": "Last name",
         "type": "\"string\""
        }
       ],
       "type": "table"
      }
     },
     "output_type": "display_data"
    }
   ],
   "source": [
    "server_name = \"jdbc:sqlserver://suparna07.database.windows.net\"\n",
    "database_name = \"AdventureWorks\"\n",
    "url = server_name + \";\" + \"databaseName=\" + database_name + \";\"\n",
    "\n",
    "table_name = \"Sample07\"\n",
    "username = \"\"\n",
    "password = \"\"\n",
    "\n",
    "try:\n",
    "    DF_SQLDB_Read = (spark.read \\\n",
    "    .format(\"jdbc\") \\\n",
    "    .option(\"url\" , url) \\\n",
    "    .option(\"dbtable\" , table_name) \\\n",
    "    .option(\"user\" , username) \\\n",
    "    .option(\"password\" , password) \\\n",
    "    .load())\n",
    "    display(DF_SQLDB_Read)\n",
    "except ValueError as e:\n",
    "    print(\"Cannot connect with the DB\")\n",
    "\n",
    "\n",
    "\n"
   ]
  },
  {
   "cell_type": "code",
   "execution_count": 0,
   "metadata": {
    "application/vnd.databricks.v1+cell": {
     "cellMetadata": {
      "byteLimit": 2048000,
      "rowLimit": 10000
     },
     "inputWidgets": {},
     "nuid": "15046049-b0c8-42d1-92ae-400670505116",
     "showTitle": false,
     "tableResultSettingsMap": {},
     "title": ""
    }
   },
   "outputs": [
    {
     "output_type": "display_data",
     "data": {
      "text/html": [
       "<style scoped>\n",
       "  .table-result-container {\n",
       "    max-height: 300px;\n",
       "    overflow: auto;\n",
       "  }\n",
       "  table, th, td {\n",
       "    border: 1px solid black;\n",
       "    border-collapse: collapse;\n",
       "  }\n",
       "  th, td {\n",
       "    padding: 5px;\n",
       "  }\n",
       "  th {\n",
       "    text-align: left;\n",
       "  }\n",
       "</style><div class='table-result-container'><table class='table-result'><thead style='background-color: white'><tr><th>Username</th><th> Identifier</th><th>First name</th><th>Last name</th><th>id</th></tr></thead><tbody><tr><td>booker12</td><td>9012</td><td>Rachel</td><td>Booker</td><td>0</td></tr><tr><td>grey07</td><td>2070</td><td>Laura</td><td>Grey</td><td>1</td></tr><tr><td>johnson81</td><td>4081</td><td>Craig</td><td>Johnson</td><td>2</td></tr><tr><td>jenkins46</td><td>9346</td><td>Mary</td><td>Jenkins</td><td>3</td></tr><tr><td>smith79</td><td>5079</td><td>Jamie</td><td>Smith</td><td>4</td></tr><tr><td>booker12</td><td>9012</td><td>Rachel</td><td>Booker</td><td>5</td></tr><tr><td>grey07</td><td>2070</td><td>Laura</td><td>Grey</td><td>6</td></tr><tr><td>johnson81</td><td>4081</td><td>Craig</td><td>Johnson</td><td>7</td></tr><tr><td>jenkins46</td><td>9346</td><td>Mary</td><td>Jenkins</td><td>8</td></tr><tr><td>smith79</td><td>5079</td><td>Jamie</td><td>Smith</td><td>9</td></tr></tbody></table></div>"
      ]
     },
     "metadata": {
      "application/vnd.databricks.v1+output": {
       "addedWidgets": {},
       "aggData": [],
       "aggError": "",
       "aggOverflow": false,
       "aggSchema": [],
       "aggSeriesLimitReached": false,
       "aggType": "",
       "arguments": {},
       "columnCustomDisplayInfos": {},
       "data": [
        [
         "booker12",
         9012,
         "Rachel",
         "Booker",
         "0"
        ],
        [
         "grey07",
         2070,
         "Laura",
         "Grey",
         "1"
        ],
        [
         "johnson81",
         4081,
         "Craig",
         "Johnson",
         "2"
        ],
        [
         "jenkins46",
         9346,
         "Mary",
         "Jenkins",
         "3"
        ],
        [
         "smith79",
         5079,
         "Jamie",
         "Smith",
         "4"
        ],
        [
         "booker12",
         9012,
         "Rachel",
         "Booker",
         "5"
        ],
        [
         "grey07",
         2070,
         "Laura",
         "Grey",
         "6"
        ],
        [
         "johnson81",
         4081,
         "Craig",
         "Johnson",
         "7"
        ],
        [
         "jenkins46",
         9346,
         "Mary",
         "Jenkins",
         "8"
        ],
        [
         "smith79",
         5079,
         "Jamie",
         "Smith",
         "9"
        ]
       ],
       "datasetInfos": [],
       "dbfsResultPath": null,
       "isJsonSchema": true,
       "metadata": {},
       "overflow": false,
       "plotOptions": {
        "customPlotOptions": {},
        "displayType": "table",
        "pivotAggregation": null,
        "pivotColumns": null,
        "xColumns": null,
        "yColumns": null
       },
       "removedWidgets": [],
       "schema": [
        {
         "metadata": "{\"isTimestampNTZ\":false,\"signed\":false,\"scale\":0}",
         "name": "Username",
         "type": "\"string\""
        },
        {
         "metadata": "{\"isTimestampNTZ\":false,\"signed\":true,\"scale\":0}",
         "name": " Identifier",
         "type": "\"integer\""
        },
        {
         "metadata": "{\"isTimestampNTZ\":false,\"signed\":false,\"scale\":0}",
         "name": "First name",
         "type": "\"string\""
        },
        {
         "metadata": "{\"isTimestampNTZ\":false,\"signed\":false,\"scale\":0}",
         "name": "Last name",
         "type": "\"string\""
        },
        {
         "metadata": "{}",
         "name": "id",
         "type": "\"string\""
        }
       ],
       "type": "table"
      }
     },
     "output_type": "display_data"
    }
   ],
   "source": [
    "from pyspark.sql.functions import monotonically_increasing_id\n",
    "# print(DF_SQLDB_Read.count())\n",
    "DF_SQLDB_Read_With_ID = DF_SQLDB_Read.withColumn(\"id\" , monotonically_increasing_id().cast(\"string\"))\n",
    "display(DF_SQLDB_Read_With_ID)"
   ]
  },
  {
   "cell_type": "code",
   "execution_count": 0,
   "metadata": {
    "application/vnd.databricks.v1+cell": {
     "cellMetadata": {
      "byteLimit": 2048000,
      "rowLimit": 10000
     },
     "inputWidgets": {},
     "nuid": "e39097e1-deaf-4805-8c76-436a7a4ea849",
     "showTitle": false,
     "tableResultSettingsMap": {},
     "title": ""
    }
   },
   "outputs": [],
   "source": [
    "readCfg = {\n",
    "\n",
    "  \"spark.cosmos.accountEndpoint\": r\"https://azurecosmosdbsup07.documents.azure.com:443/;\",\n",
    "\n",
    "  \"spark.cosmos.accountKey\": r\"",\n",
    "\n",
    "  \"spark.cosmos.database\": \"AzureCosmosDB07\",\n",
    "\n",
    "  \"spark.cosmos.container\": \"AzureCosmosDBContainer\",\n",
    "\n",
    "  \"spark.cosmos.read.inferSchema.enabled\": \"true\",\n",
    "\n",
    "  \"spark.cosmos.write.strategy\": \"ItemOverwrite\"\n",
    "\n",
    "}"
   ]
  },
  {
   "cell_type": "code",
   "execution_count": 0,
   "metadata": {
    "application/vnd.databricks.v1+cell": {
     "cellMetadata": {
      "byteLimit": 2048000,
      "rowLimit": 10000
     },
     "inputWidgets": {},
     "nuid": "8373fc42-00d6-470e-9577-e5d88c546514",
     "showTitle": false,
     "tableResultSettingsMap": {},
     "title": ""
    }
   },
   "outputs": [],
   "source": [
    "DF_CosmosDB_Insert = spark.createDataFrame(DF_SQLDB_Read_With_ID.head(4))\n",
    "\n",
    "DF_CosmosDB_Insert.write.format(\"cosmos.oltp\").options(**readCfg).mode(\"append\").save()"
   ]
  },
  {
   "cell_type": "code",
   "execution_count": 0,
   "metadata": {
    "application/vnd.databricks.v1+cell": {
     "cellMetadata": {},
     "inputWidgets": {},
     "nuid": "3f210750-8f63-4a0c-918e-89d642785d06",
     "showTitle": false,
     "tableResultSettingsMap": {},
     "title": ""
    }
   },
   "outputs": [],
   "source": [
    "from pyspark.sql import Window\n",
    "from pyspark.sql.functions import row_number\n",
    "df = df1.withColumn(\"counter\", monotonically_increasing_id())\n",
    "w = Window.orderBy(\"counter\")\n",
    "# Use row number with the window specification\n",
    "df_index = df.withColumn(\"index\", row_number().over(w))\n",
    "df_index = df_index.drop(\"counter\")\n",
    "df_index.show(truncate=False)"
   ]
  },
  {
   "cell_type": "code",
   "execution_count": 0,
   "metadata": {
    "application/vnd.databricks.v1+cell": {
     "cellMetadata": {
      "byteLimit": 2048000,
      "rowLimit": 10000
     },
     "inputWidgets": {},
     "nuid": "d7e792ca-8bee-4136-a9f9-33a876d53227",
     "showTitle": false,
     "tableResultSettingsMap": {},
     "title": ""
    }
   },
   "outputs": [
    {
     "output_type": "display_data",
     "data": {
      "text/html": [
       "<style scoped>\n",
       "  .table-result-container {\n",
       "    max-height: 300px;\n",
       "    overflow: auto;\n",
       "  }\n",
       "  table, th, td {\n",
       "    border: 1px solid black;\n",
       "    border-collapse: collapse;\n",
       "  }\n",
       "  th, td {\n",
       "    padding: 5px;\n",
       "  }\n",
       "  th {\n",
       "    text-align: left;\n",
       "  }\n",
       "</style><div class='table-result-container'><table class='table-result'><thead style='background-color: white'><tr><th>Username</th><th> Identifier</th><th>First name</th><th>Last name</th><th>id</th></tr></thead><tbody><tr><td>smith79</td><td>5079</td><td>Jamie</td><td>Smith</td><td>1</td></tr><tr><td>booker12</td><td>9012</td><td>Rachel</td><td>Booker</td><td>2</td></tr><tr><td>grey07</td><td>2070</td><td>Laura</td><td>Grey</td><td>3</td></tr><tr><td>johnson81</td><td>4081</td><td>Craig</td><td>Johnson</td><td>4</td></tr><tr><td>jenkins46</td><td>9346</td><td>Mary</td><td>Jenkins</td><td>5</td></tr><tr><td>smith79</td><td>5079</td><td>Jamie</td><td>Smith</td><td>6</td></tr></tbody></table></div>"
      ]
     },
     "metadata": {
      "application/vnd.databricks.v1+output": {
       "addedWidgets": {},
       "aggData": [],
       "aggError": "",
       "aggOverflow": false,
       "aggSchema": [],
       "aggSeriesLimitReached": false,
       "aggType": "",
       "arguments": {},
       "columnCustomDisplayInfos": {},
       "data": [
        [
         "smith79",
         5079,
         "Jamie",
         "Smith",
         "1"
        ],
        [
         "booker12",
         9012,
         "Rachel",
         "Booker",
         "2"
        ],
        [
         "grey07",
         2070,
         "Laura",
         "Grey",
         "3"
        ],
        [
         "johnson81",
         4081,
         "Craig",
         "Johnson",
         "4"
        ],
        [
         "jenkins46",
         9346,
         "Mary",
         "Jenkins",
         "5"
        ],
        [
         "smith79",
         5079,
         "Jamie",
         "Smith",
         "6"
        ]
       ],
       "datasetInfos": [],
       "dbfsResultPath": null,
       "isJsonSchema": true,
       "metadata": {},
       "overflow": false,
       "plotOptions": {
        "customPlotOptions": {},
        "displayType": "table",
        "pivotAggregation": null,
        "pivotColumns": null,
        "xColumns": null,
        "yColumns": null
       },
       "removedWidgets": [],
       "schema": [
        {
         "metadata": "{}",
         "name": "Username",
         "type": "\"string\""
        },
        {
         "metadata": "{}",
         "name": " Identifier",
         "type": "\"long\""
        },
        {
         "metadata": "{}",
         "name": "First name",
         "type": "\"string\""
        },
        {
         "metadata": "{}",
         "name": "Last name",
         "type": "\"string\""
        },
        {
         "metadata": "{}",
         "name": "id",
         "type": "\"string\""
        }
       ],
       "type": "table"
      }
     },
     "output_type": "display_data"
    }
   ],
   "source": [
    "from pyspark.sql import Window\n",
    "from pyspark.sql.functions import row_number\n",
    "\n",
    "\n",
    "DF_CosmosDB_Upsert = spark.createDataFrame(DF_SQLDB_Read_With_ID.tail(6))\n",
    "DF_CosmosDB_Upsert = DF_CosmosDB_Upsert.withColumn(\"counter\", monotonically_increasing_id())\n",
    "w = Window.orderBy(\"counter\")\n",
    "# Use row number with the window specification\n",
    "DF_CosmosDB_Upsert = DF_CosmosDB_Upsert.withColumn(\"id\", row_number().over(w).cast(\"string\"))\n",
    "DF_CosmosDB_Upsert = DF_CosmosDB_Upsert.drop('counter')\n",
    "display(DF_CosmosDB_Upsert)\n"
   ]
  },
  {
   "cell_type": "code",
   "execution_count": 0,
   "metadata": {
    "application/vnd.databricks.v1+cell": {
     "cellMetadata": {
      "byteLimit": 2048000,
      "rowLimit": 10000
     },
     "inputWidgets": {},
     "nuid": "1c5d320e-0738-459d-b28e-994f144af1b6",
     "showTitle": false,
     "tableResultSettingsMap": {},
     "title": ""
    }
   },
   "outputs": [],
   "source": [
    "DF_CosmosDB_Upsert.write.format(\"cosmos.oltp\").options(**readCfg).mode(\"append\").save()"
   ]
  },
  {
   "cell_type": "code",
   "execution_count": 0,
   "metadata": {
    "application/vnd.databricks.v1+cell": {
     "cellMetadata": {},
     "inputWidgets": {},
     "nuid": "10d42e51-7d6c-4409-bc61-b9431f801a8f",
     "showTitle": false,
     "tableResultSettingsMap": {},
     "title": ""
    }
   },
   "outputs": [],
   "source": []
  }
 ],
 "metadata": {
  "application/vnd.databricks.v1+notebook": {
   "computePreferences": null,
   "dashboards": [],
   "environmentMetadata": {
    "base_environment": "",
    "client": "1"
   },
   "language": "python",
   "notebookMetadata": {
    "pythonIndentUnit": 4
   },
   "notebookName": "Databricks_To_CosmosDB_DataLoad",
   "widgets": {}
  }
 },
 "nbformat": 4,
 "nbformat_minor": 0
}
