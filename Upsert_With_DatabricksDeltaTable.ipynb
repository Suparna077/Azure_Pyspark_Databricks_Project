{
 "cells": [
  {
   "cell_type": "code",
   "execution_count": 0,
   "metadata": {
    "application/vnd.databricks.v1+cell": {
     "cellMetadata": {
      "byteLimit": 2048000,
      "rowLimit": 10000
     },
     "inputWidgets": {},
     "nuid": "2eabfeca-bef4-436d-b4e3-cd29b8690a98",
     "showTitle": false,
     "tableResultSettingsMap": {},
     "title": ""
    }
   },
   "outputs": [
    {
     "output_type": "execute_result",
     "data": {
      "text/plain": [
       "[FileInfo(path='dbfs:/mnt/AzureAccount/DatabricksParquet/', name='DatabricksParquet/', size=0, modificationTime=0),\n",
       " FileInfo(path='dbfs:/mnt/AzureAccount/Pyspark_With_Json/', name='Pyspark_With_Json/', size=0, modificationTime=0),\n",
       " FileInfo(path='dbfs:/mnt/AzureAccount/SampleCSV.csv', name='SampleCSV.csv', size=176, modificationTime=1734508306000),\n",
       " FileInfo(path='dbfs:/mnt/AzureAccount/YearlyTopTen.csv', name='YearlyTopTen.csv', size=57828, modificationTime=1730564575000),\n",
       " FileInfo(path='dbfs:/mnt/AzureAccount/country_full.csv', name='country_full.csv', size=19732, modificationTime=1735229205000),\n",
       " FileInfo(path='dbfs:/mnt/AzureAccount/country_full_Upsert.csv', name='country_full_Upsert.csv', size=1270, modificationTime=1735229205000),\n",
       " FileInfo(path='dbfs:/mnt/AzureAccount/my_table/', name='my_table/', size=0, modificationTime=0),\n",
       " FileInfo(path='dbfs:/mnt/AzureAccount/my_table1/', name='my_table1/', size=0, modificationTime=0),\n",
       " FileInfo(path='dbfs:/mnt/AzureAccount/my_table_Updated/', name='my_table_Updated/', size=0, modificationTime=0),\n",
       " FileInfo(path='dbfs:/mnt/AzureAccount/sample1.parquet', name='sample1.parquet', size=1308, modificationTime=1731602962000)]"
      ]
     },
     "execution_count": 12,
     "metadata": {},
     "output_type": "execute_result"
    }
   ],
   "source": [
    "dbutils.fs.ls(\"/mnt/AzureAccount\")"
   ]
  },
  {
   "cell_type": "code",
   "execution_count": 0,
   "metadata": {
    "application/vnd.databricks.v1+cell": {
     "cellMetadata": {
      "byteLimit": 2048000,
      "rowLimit": 10000
     },
     "inputWidgets": {},
     "nuid": "ea87763a-95df-432c-a7c5-7e8e77341636",
     "showTitle": false,
     "tableResultSettingsMap": {},
     "title": ""
    }
   },
   "outputs": [
    {
     "output_type": "display_data",
     "data": {
      "text/html": [
       "<style scoped>\n",
       "  .table-result-container {\n",
       "    max-height: 300px;\n",
       "    overflow: auto;\n",
       "  }\n",
       "  table, th, td {\n",
       "    border: 1px solid black;\n",
       "    border-collapse: collapse;\n",
       "  }\n",
       "  th, td {\n",
       "    padding: 5px;\n",
       "  }\n",
       "  th {\n",
       "    text-align: left;\n",
       "  }\n",
       "</style><div class='table-result-container'><table class='table-result'><thead style='background-color: white'><tr><th>ID</th><th>name</th><th>alpha-2</th><th>alpha-3</th><th>region</th></tr></thead><tbody><tr><td>1</td><td>Afghanistan</td><td>AF</td><td>AFG</td><td>Asia</td></tr><tr><td>2</td><td>Åland Islands</td><td>AX</td><td>ALA</td><td>Europe</td></tr><tr><td>3</td><td>Albania</td><td>AL</td><td>ALB</td><td>Europe</td></tr><tr><td>4</td><td>Algeria</td><td>DZ</td><td>DZA</td><td>Africa</td></tr><tr><td>5</td><td>American Samoa</td><td>AS</td><td>ASM</td><td>Oceania</td></tr><tr><td>6</td><td>Andorra</td><td>AD</td><td>AND</td><td>Europe</td></tr><tr><td>7</td><td>Angola</td><td>AO</td><td>AGO</td><td>Africa</td></tr><tr><td>8</td><td>Anguilla</td><td>AI</td><td>AIA</td><td>Americas</td></tr><tr><td>9</td><td>Antarctica</td><td>AQ</td><td>ATA</td><td>null</td></tr><tr><td>10</td><td>Antigua and Barbuda</td><td>AG</td><td>ATG</td><td>Americas</td></tr></tbody></table></div>"
      ]
     },
     "metadata": {
      "application/vnd.databricks.v1+output": {
       "addedWidgets": {},
       "aggData": [],
       "aggError": "",
       "aggOverflow": false,
       "aggSchema": [],
       "aggSeriesLimitReached": false,
       "aggType": "",
       "arguments": {},
       "columnCustomDisplayInfos": {},
       "data": [
        [
         1,
         "Afghanistan",
         "AF",
         "AFG",
         "Asia"
        ],
        [
         2,
         "Åland Islands",
         "AX",
         "ALA",
         "Europe"
        ],
        [
         3,
         "Albania",
         "AL",
         "ALB",
         "Europe"
        ],
        [
         4,
         "Algeria",
         "DZ",
         "DZA",
         "Africa"
        ],
        [
         5,
         "American Samoa",
         "AS",
         "ASM",
         "Oceania"
        ],
        [
         6,
         "Andorra",
         "AD",
         "AND",
         "Europe"
        ],
        [
         7,
         "Angola",
         "AO",
         "AGO",
         "Africa"
        ],
        [
         8,
         "Anguilla",
         "AI",
         "AIA",
         "Americas"
        ],
        [
         9,
         "Antarctica",
         "AQ",
         "ATA",
         "null"
        ],
        [
         10,
         "Antigua and Barbuda",
         "AG",
         "ATG",
         "Americas"
        ]
       ],
       "datasetInfos": [],
       "dbfsResultPath": null,
       "isJsonSchema": true,
       "metadata": {},
       "overflow": false,
       "plotOptions": {
        "customPlotOptions": {},
        "displayType": "table",
        "pivotAggregation": null,
        "pivotColumns": null,
        "xColumns": null,
        "yColumns": null
       },
       "removedWidgets": [],
       "schema": [
        {
         "metadata": "{}",
         "name": "ID",
         "type": "\"long\""
        },
        {
         "metadata": "{}",
         "name": "name",
         "type": "\"string\""
        },
        {
         "metadata": "{}",
         "name": "alpha-2",
         "type": "\"string\""
        },
        {
         "metadata": "{}",
         "name": "alpha-3",
         "type": "\"string\""
        },
        {
         "metadata": "{}",
         "name": "region",
         "type": "\"string\""
        }
       ],
       "type": "table"
      }
     },
     "output_type": "display_data"
    }
   ],
   "source": [
    "from delta.tables import DeltaTable\n",
    "\n",
    "delta_table_path = \"/mnt/AzureAccount/my_table_Updated\"\n",
    "\n",
    "DF_Basic = spark.read.csv(\n",
    "    \"/mnt/AzureAccount/country_full.csv\", inferSchema=True, header=True, sep=\",\"\n",
    ").fillna('null').fillna(0)\n",
    "DF_Basic_Updated = spark.createDataFrame(DF_Basic.select(\"ID\",\"name\",\"alpha-2\",\"alpha-3\",\"region\").head(10))\n",
    "display(DF_Basic_Updated)\n",
    "\n"
   ]
  },
  {
   "cell_type": "code",
   "execution_count": 0,
   "metadata": {
    "application/vnd.databricks.v1+cell": {
     "cellMetadata": {
      "byteLimit": 2048000,
      "rowLimit": 10000
     },
     "inputWidgets": {},
     "nuid": "a0ceeee9-46bb-4e9d-b375-6fb5e0c262fd",
     "showTitle": false,
     "tableResultSettingsMap": {},
     "title": ""
    }
   },
   "outputs": [],
   "source": [
    "DF_Basic_Updated.write.format(\"delta\").save(delta_table_path)\n",
    "Delta_Table_Updated = DeltaTable.createOrReplace(spark).location(delta_table_path)\n"
   ]
  },
  {
   "cell_type": "code",
   "execution_count": 0,
   "metadata": {
    "application/vnd.databricks.v1+cell": {
     "cellMetadata": {
      "byteLimit": 2048000,
      "rowLimit": 10000
     },
     "inputWidgets": {},
     "nuid": "cbf466d6-059c-4324-bddb-a07614c6e5ad",
     "showTitle": false,
     "tableResultSettingsMap": {},
     "title": ""
    }
   },
   "outputs": [
    {
     "output_type": "display_data",
     "data": {
      "text/html": [
       "<style scoped>\n",
       "  .table-result-container {\n",
       "    max-height: 300px;\n",
       "    overflow: auto;\n",
       "  }\n",
       "  table, th, td {\n",
       "    border: 1px solid black;\n",
       "    border-collapse: collapse;\n",
       "  }\n",
       "  th, td {\n",
       "    padding: 5px;\n",
       "  }\n",
       "  th {\n",
       "    text-align: left;\n",
       "  }\n",
       "</style><div class='table-result-container'><table class='table-result'><thead style='background-color: white'><tr><th>ID</th><th>name</th><th>alpha-2</th><th>alpha-3</th><th>country-code</th><th>iso_3166-2</th><th>region</th><th>sub-region</th><th>intermediate-region</th><th>region-code</th><th>sub-region-code</th><th>intermediate-region-code</th></tr></thead><tbody><tr><td>1</td><td>United States Minor Outlying Islands</td><td>UM</td><td>UMI</td><td>581</td><td>ISO 3166-2:UM</td><td>Oceania</td><td>Micronesia</td><td>n</td><td>9</td><td>57</td><td>0</td></tr><tr><td>2</td><td>Uruguay</td><td>UY</td><td>URY</td><td>858</td><td>ISO 3166-2:UY</td><td>Americas</td><td>Latin America and the Caribbean</td><td>South America</td><td>19</td><td>419</td><td>5</td></tr><tr><td>5</td><td>Uzbekistan</td><td>UZ</td><td>UZB</td><td>860</td><td>ISO 3166-2:UZ</td><td>Asia</td><td>Central Asia</td><td>n</td><td>142</td><td>143</td><td>0</td></tr><tr><td>4</td><td>Vanuatu</td><td>VU</td><td>VUT</td><td>548</td><td>ISO 3166-2:VU</td><td>Oceania</td><td>Melanesia</td><td>n</td><td>9</td><td>54</td><td>0</td></tr><tr><td>51</td><td>Venezuela (Bolivarian Republic of)</td><td>VE</td><td>VEN</td><td>862</td><td>ISO 3166-2:VE</td><td>Americas</td><td>Latin America and the Caribbean</td><td>South America</td><td>19</td><td>419</td><td>5</td></tr><tr><td>26</td><td>Viet Nam</td><td>VN</td><td>VNM</td><td>704</td><td>ISO 3166-2:VN</td><td>Asia</td><td>South-eastern Asia</td><td>n</td><td>142</td><td>35</td><td>0</td></tr><tr><td>47</td><td>Virgin Islands (British)</td><td>VG</td><td>VGB</td><td>92</td><td>ISO 3166-2:VG</td><td>Americas</td><td>Latin America and the Caribbean</td><td>Caribbean</td><td>19</td><td>419</td><td>29</td></tr><tr><td>68</td><td>Virgin Islands (U.S.)</td><td>VI</td><td>VIR</td><td>850</td><td>ISO 3166-2:VI</td><td>Americas</td><td>Latin America and the Caribbean</td><td>Caribbean</td><td>19</td><td>419</td><td>29</td></tr><tr><td>99</td><td>Wallis and Futuna</td><td>WF</td><td>WLF</td><td>876</td><td>ISO 3166-2:WF</td><td>Oceania</td><td>Polynesia</td><td>n</td><td>9</td><td>61</td><td>0</td></tr><tr><td>110</td><td>Western Sahara</td><td>EH</td><td>ESH</td><td>732</td><td>ISO 3166-2:EH</td><td>Africa</td><td>Northern Africa</td><td>n</td><td>2</td><td>15</td><td>0</td></tr><tr><td>161</td><td>Yemen</td><td>YE</td><td>YEM</td><td>887</td><td>ISO 3166-2:YE</td><td>Asia</td><td>Western Asia</td><td>n</td><td>142</td><td>145</td><td>0</td></tr><tr><td>112</td><td>Zambia</td><td>ZM</td><td>ZMB</td><td>894</td><td>ISO 3166-2:ZM</td><td>Africa</td><td>Sub-Saharan Africa</td><td>Eastern Africa</td><td>2</td><td>202</td><td>14</td></tr><tr><td>13</td><td>Zimbabwe</td><td>ZW</td><td>ZWE</td><td>716</td><td>ISO 3166-2:ZW</td><td>Africa</td><td>Sub-Saharan Africa</td><td>Eastern Africa</td><td>2</td><td>202</td><td>14</td></tr></tbody></table></div>"
      ]
     },
     "metadata": {
      "application/vnd.databricks.v1+output": {
       "addedWidgets": {},
       "aggData": [],
       "aggError": "",
       "aggOverflow": false,
       "aggSchema": [],
       "aggSeriesLimitReached": false,
       "aggType": "",
       "arguments": {},
       "columnCustomDisplayInfos": {},
       "data": [
        [
         1,
         "United States Minor Outlying Islands",
         "UM",
         "UMI",
         581,
         "ISO 3166-2:UM",
         "Oceania",
         "Micronesia",
         "n",
         9,
         57,
         0
        ],
        [
         2,
         "Uruguay",
         "UY",
         "URY",
         858,
         "ISO 3166-2:UY",
         "Americas",
         "Latin America and the Caribbean",
         "South America",
         19,
         419,
         5
        ],
        [
         5,
         "Uzbekistan",
         "UZ",
         "UZB",
         860,
         "ISO 3166-2:UZ",
         "Asia",
         "Central Asia",
         "n",
         142,
         143,
         0
        ],
        [
         4,
         "Vanuatu",
         "VU",
         "VUT",
         548,
         "ISO 3166-2:VU",
         "Oceania",
         "Melanesia",
         "n",
         9,
         54,
         0
        ],
        [
         51,
         "Venezuela (Bolivarian Republic of)",
         "VE",
         "VEN",
         862,
         "ISO 3166-2:VE",
         "Americas",
         "Latin America and the Caribbean",
         "South America",
         19,
         419,
         5
        ],
        [
         26,
         "Viet Nam",
         "VN",
         "VNM",
         704,
         "ISO 3166-2:VN",
         "Asia",
         "South-eastern Asia",
         "n",
         142,
         35,
         0
        ],
        [
         47,
         "Virgin Islands (British)",
         "VG",
         "VGB",
         92,
         "ISO 3166-2:VG",
         "Americas",
         "Latin America and the Caribbean",
         "Caribbean",
         19,
         419,
         29
        ],
        [
         68,
         "Virgin Islands (U.S.)",
         "VI",
         "VIR",
         850,
         "ISO 3166-2:VI",
         "Americas",
         "Latin America and the Caribbean",
         "Caribbean",
         19,
         419,
         29
        ],
        [
         99,
         "Wallis and Futuna",
         "WF",
         "WLF",
         876,
         "ISO 3166-2:WF",
         "Oceania",
         "Polynesia",
         "n",
         9,
         61,
         0
        ],
        [
         110,
         "Western Sahara",
         "EH",
         "ESH",
         732,
         "ISO 3166-2:EH",
         "Africa",
         "Northern Africa",
         "n",
         2,
         15,
         0
        ],
        [
         161,
         "Yemen",
         "YE",
         "YEM",
         887,
         "ISO 3166-2:YE",
         "Asia",
         "Western Asia",
         "n",
         142,
         145,
         0
        ],
        [
         112,
         "Zambia",
         "ZM",
         "ZMB",
         894,
         "ISO 3166-2:ZM",
         "Africa",
         "Sub-Saharan Africa",
         "Eastern Africa",
         2,
         202,
         14
        ],
        [
         13,
         "Zimbabwe",
         "ZW",
         "ZWE",
         716,
         "ISO 3166-2:ZW",
         "Africa",
         "Sub-Saharan Africa",
         "Eastern Africa",
         2,
         202,
         14
        ]
       ],
       "datasetInfos": [],
       "dbfsResultPath": null,
       "isJsonSchema": true,
       "metadata": {},
       "overflow": false,
       "plotOptions": {
        "customPlotOptions": {},
        "displayType": "table",
        "pivotAggregation": null,
        "pivotColumns": null,
        "xColumns": null,
        "yColumns": null
       },
       "removedWidgets": [],
       "schema": [
        {
         "metadata": "{}",
         "name": "ID",
         "type": "\"integer\""
        },
        {
         "metadata": "{}",
         "name": "name",
         "type": "\"string\""
        },
        {
         "metadata": "{}",
         "name": "alpha-2",
         "type": "\"string\""
        },
        {
         "metadata": "{}",
         "name": "alpha-3",
         "type": "\"string\""
        },
        {
         "metadata": "{}",
         "name": "country-code",
         "type": "\"integer\""
        },
        {
         "metadata": "{}",
         "name": "iso_3166-2",
         "type": "\"string\""
        },
        {
         "metadata": "{}",
         "name": "region",
         "type": "\"string\""
        },
        {
         "metadata": "{}",
         "name": "sub-region",
         "type": "\"string\""
        },
        {
         "metadata": "{}",
         "name": "intermediate-region",
         "type": "\"string\""
        },
        {
         "metadata": "{}",
         "name": "region-code",
         "type": "\"integer\""
        },
        {
         "metadata": "{}",
         "name": "sub-region-code",
         "type": "\"integer\""
        },
        {
         "metadata": "{}",
         "name": "intermediate-region-code",
         "type": "\"integer\""
        }
       ],
       "type": "table"
      }
     },
     "output_type": "display_data"
    }
   ],
   "source": [
    "from pyspark.sql.functions import col\n",
    "\n",
    "Upsert_DF_Path = \"/mnt/AzureAccount/country_full_Upsert.csv\"\n",
    "\n",
    "Upsert_DF = spark.read.csv(Upsert_DF_Path, inferSchema=True , header=True , sep=\",\" ).fillna('n').fillna(0)\n",
    "Upsert_DF_Updated = Upsert_DF.select([col(\"{}\".format(str(i))) for i in Upsert_DF.columns])\n",
    "display(Upsert_DF_Updated)"
   ]
  },
  {
   "cell_type": "code",
   "execution_count": 0,
   "metadata": {
    "application/vnd.databricks.v1+cell": {
     "cellMetadata": {
      "byteLimit": 2048000,
      "rowLimit": 10000
     },
     "inputWidgets": {},
     "nuid": "0205dfdc-0553-4ac6-81c0-863acc725b23",
     "showTitle": false,
     "tableResultSettingsMap": {},
     "title": ""
    }
   },
   "outputs": [
    {
     "output_type": "stream",
     "name": "stdout",
     "output_type": "stream",
     "text": [
      "F.concat_ws(F.lit(ID :) ,col(\"source.{0}\"), F.lit(,) ,F.lit(name :) ,col(\"source.{1}\"), F.lit(,) ,F.lit(alpha-2 :) ,col(\"source.{2}\"), F.lit(,) ,F.lit(alpha-3 :) ,col(\"source.{3}\"), F.lit(,) ,F.lit(region :) ,col(\"source.{4}\"))\n"
     ]
    }
   ],
   "source": [
    "from pyspark.sql import functions as F\n",
    "Columns = Upsert_DF_Updated.columns\n",
    "Column_List = r'F.concat_ws('\n",
    "Pos = 0\n",
    "\n",
    "for i in Columns:\n",
    "    i = str(i)\n",
    "    if Pos + 1 != len(Columns):\n",
    "        \n",
    "        Column_List = Column_List + r'F.lit(' + i + ' :)' + r' ,col(\"source.{' + str(Pos) + r'}\")' + r\", F.lit(,) ,\"\n",
    "    else:\n",
    "        Column_List = Column_List  + r'F.lit(' + i + ' :)' + r' ,col(\"source.{' + str(Pos) + r'}\"))'\n",
    "    Pos = Pos + 1\n",
    "# Column_List = Column_List + i + \":\" + \"{col(\" + r'\"{source.' + str(Pos) + r'}\")}'\n",
    "    \n",
    "print(Column_List)"
   ]
  },
  {
   "cell_type": "code",
   "execution_count": 0,
   "metadata": {
    "application/vnd.databricks.v1+cell": {
     "cellMetadata": {
      "byteLimit": 2048000,
      "rowLimit": 10000
     },
     "inputWidgets": {},
     "nuid": "f6c0a481-d8ca-4036-80d5-39a552122df0",
     "showTitle": false,
     "tableResultSettingsMap": {},
     "title": ""
    }
   },
   "outputs": [
    {
     "output_type": "stream",
     "name": "stdout",
     "output_type": "stream",
     "text": [
      "['ID', 'name', 'alpha-2', 'alpha-3', 'region']\n"
     ]
    }
   ],
   "source": [
    "from pyspark.sql.functions import col\n",
    "\n",
    "def concat_cols(*list_cols):\n",
    "    return '-'.join(dict({f'{str(i)}' , f'\"source.{str(i)}\"'} for i in list_cols))\n",
    "\n",
    "print(concat_cols(Columns))\n",
    "concat_cols = udf(concat_cols)\n",
    "# def call(funcname):\n",
    "#     dispatcher={'col':col , 'str':str}\n",
    "#     return dispatcher[funcname]\n",
    "\n",
    "# CallDispatcher={\n",
    "#     'col':col ,\n",
    "#      'str':str ,\n",
    "#      'eval': eval}\n"
   ]
  },
  {
   "cell_type": "code",
   "execution_count": 0,
   "metadata": {
    "application/vnd.databricks.v1+cell": {
     "cellMetadata": {
      "byteLimit": 2048000,
      "rowLimit": 10000
     },
     "inputWidgets": {},
     "nuid": "6ca53b37-c091-4c00-ac83-61b065df5b40",
     "showTitle": false,
     "tableResultSettingsMap": {},
     "title": ""
    }
   },
   "outputs": [],
   "source": [
    "from pyspark.sql.functions import col\n",
    "from pyspark.sql import functions as F\n",
    "from ast import literal_eval\n",
    "\n",
    "delta_table = DeltaTable.forPath(spark,delta_table_path)\n",
    "\n",
    "delta_table.alias(\"target\") \\\n",
    "    .merge(Upsert_DF_Updated.alias(\"source\"), \\\n",
    "       col(\"source.ID\") == col(\"target.ID\")) \\\n",
    "             .whenMatchedUpdate(set = { \n",
    "                str(i) : col(\"source.{}\".format(str(i))) for i in Columns}\n",
    "                                ) \\\n",
    "           .whenNotMatchedInsert(values = { \n",
    "              str(i) : col(\"source.{}\".format(str(i))) for i in Columns}\n",
    "                                 ).execute()\n",
    "    "
   ]
  },
  {
   "cell_type": "code",
   "execution_count": 0,
   "metadata": {
    "application/vnd.databricks.v1+cell": {
     "cellMetadata": {
      "byteLimit": 2048000,
      "rowLimit": 10000
     },
     "inputWidgets": {},
     "nuid": "e44fe9c3-9c5d-408c-94fa-6d283d4190a8",
     "showTitle": false,
     "tableResultSettingsMap": {},
     "title": ""
    }
   },
   "outputs": [
    {
     "output_type": "display_data",
     "data": {
      "text/html": [
       "<style scoped>\n",
       "  .table-result-container {\n",
       "    max-height: 300px;\n",
       "    overflow: auto;\n",
       "  }\n",
       "  table, th, td {\n",
       "    border: 1px solid black;\n",
       "    border-collapse: collapse;\n",
       "  }\n",
       "  th, td {\n",
       "    padding: 5px;\n",
       "  }\n",
       "  th {\n",
       "    text-align: left;\n",
       "  }\n",
       "</style><div class='table-result-container'><table class='table-result'><thead style='background-color: white'><tr><th>ID</th><th>name</th><th>alpha-2</th><th>alpha-3</th><th>region</th></tr></thead><tbody><tr><td>1</td><td>United States Minor Outlying Islands</td><td>UM</td><td>UMI</td><td>Oceania</td></tr><tr><td>2</td><td>Uruguay</td><td>UY</td><td>URY</td><td>Americas</td></tr><tr><td>5</td><td>Uzbekistan</td><td>UZ</td><td>UZB</td><td>Asia</td></tr><tr><td>4</td><td>Vanuatu</td><td>VU</td><td>VUT</td><td>Oceania</td></tr><tr><td>51</td><td>Venezuela (Bolivarian Republic of)</td><td>VE</td><td>VEN</td><td>Americas</td></tr><tr><td>26</td><td>Viet Nam</td><td>VN</td><td>VNM</td><td>Asia</td></tr><tr><td>47</td><td>Virgin Islands (British)</td><td>VG</td><td>VGB</td><td>Americas</td></tr><tr><td>68</td><td>Virgin Islands (U.S.)</td><td>VI</td><td>VIR</td><td>Americas</td></tr><tr><td>99</td><td>Wallis and Futuna</td><td>WF</td><td>WLF</td><td>Oceania</td></tr><tr><td>110</td><td>Western Sahara</td><td>EH</td><td>ESH</td><td>Africa</td></tr><tr><td>161</td><td>Yemen</td><td>YE</td><td>YEM</td><td>Asia</td></tr><tr><td>112</td><td>Zambia</td><td>ZM</td><td>ZMB</td><td>Africa</td></tr><tr><td>13</td><td>Zimbabwe</td><td>ZW</td><td>ZWE</td><td>Africa</td></tr><tr><td>9</td><td>Antarctica</td><td>AQ</td><td>ATA</td><td>null</td></tr><tr><td>10</td><td>Antigua and Barbuda</td><td>AG</td><td>ATG</td><td>Americas</td></tr><tr><td>8</td><td>Anguilla</td><td>AI</td><td>AIA</td><td>Americas</td></tr><tr><td>3</td><td>Albania</td><td>AL</td><td>ALB</td><td>Europe</td></tr><tr><td>6</td><td>Andorra</td><td>AD</td><td>AND</td><td>Europe</td></tr><tr><td>7</td><td>Angola</td><td>AO</td><td>AGO</td><td>Africa</td></tr></tbody></table></div>"
      ]
     },
     "metadata": {
      "application/vnd.databricks.v1+output": {
       "addedWidgets": {},
       "aggData": [],
       "aggError": "",
       "aggOverflow": false,
       "aggSchema": [],
       "aggSeriesLimitReached": false,
       "aggType": "",
       "arguments": {},
       "columnCustomDisplayInfos": {},
       "data": [
        [
         1,
         "United States Minor Outlying Islands",
         "UM",
         "UMI",
         "Oceania"
        ],
        [
         2,
         "Uruguay",
         "UY",
         "URY",
         "Americas"
        ],
        [
         5,
         "Uzbekistan",
         "UZ",
         "UZB",
         "Asia"
        ],
        [
         4,
         "Vanuatu",
         "VU",
         "VUT",
         "Oceania"
        ],
        [
         51,
         "Venezuela (Bolivarian Republic of)",
         "VE",
         "VEN",
         "Americas"
        ],
        [
         26,
         "Viet Nam",
         "VN",
         "VNM",
         "Asia"
        ],
        [
         47,
         "Virgin Islands (British)",
         "VG",
         "VGB",
         "Americas"
        ],
        [
         68,
         "Virgin Islands (U.S.)",
         "VI",
         "VIR",
         "Americas"
        ],
        [
         99,
         "Wallis and Futuna",
         "WF",
         "WLF",
         "Oceania"
        ],
        [
         110,
         "Western Sahara",
         "EH",
         "ESH",
         "Africa"
        ],
        [
         161,
         "Yemen",
         "YE",
         "YEM",
         "Asia"
        ],
        [
         112,
         "Zambia",
         "ZM",
         "ZMB",
         "Africa"
        ],
        [
         13,
         "Zimbabwe",
         "ZW",
         "ZWE",
         "Africa"
        ],
        [
         9,
         "Antarctica",
         "AQ",
         "ATA",
         "null"
        ],
        [
         10,
         "Antigua and Barbuda",
         "AG",
         "ATG",
         "Americas"
        ],
        [
         8,
         "Anguilla",
         "AI",
         "AIA",
         "Americas"
        ],
        [
         3,
         "Albania",
         "AL",
         "ALB",
         "Europe"
        ],
        [
         6,
         "Andorra",
         "AD",
         "AND",
         "Europe"
        ],
        [
         7,
         "Angola",
         "AO",
         "AGO",
         "Africa"
        ]
       ],
       "datasetInfos": [],
       "dbfsResultPath": null,
       "isJsonSchema": true,
       "metadata": {},
       "overflow": false,
       "plotOptions": {
        "customPlotOptions": {},
        "displayType": "table",
        "pivotAggregation": null,
        "pivotColumns": null,
        "xColumns": null,
        "yColumns": null
       },
       "removedWidgets": [],
       "schema": [
        {
         "metadata": "{}",
         "name": "ID",
         "type": "\"long\""
        },
        {
         "metadata": "{}",
         "name": "name",
         "type": "\"string\""
        },
        {
         "metadata": "{}",
         "name": "alpha-2",
         "type": "\"string\""
        },
        {
         "metadata": "{}",
         "name": "alpha-3",
         "type": "\"string\""
        },
        {
         "metadata": "{}",
         "name": "region",
         "type": "\"string\""
        }
       ],
       "type": "table"
      }
     },
     "output_type": "display_data"
    }
   ],
   "source": [
    "from delta.tables import DeltaTable\n",
    "\n",
    "delta_table_path = \"/mnt/AzureAccount/my_table_Updated\"\n",
    "delta_table = DeltaTable.forPath(spark,delta_table_path)\n",
    "display(delta_table.toDF())"
   ]
  },
  {
   "cell_type": "code",
   "execution_count": 0,
   "metadata": {
    "application/vnd.databricks.v1+cell": {
     "cellMetadata": {},
     "inputWidgets": {},
     "nuid": "d0a7e55f-615e-4744-9e41-06e6c30e3de4",
     "showTitle": false,
     "tableResultSettingsMap": {},
     "title": ""
    }
   },
   "outputs": [],
   "source": [
    "{literal_eval(Column_List.format(*Columns),{'__builtins__':None},CallDispatcher)}"
   ]
  }
 ],
 "metadata": {
  "application/vnd.databricks.v1+notebook": {
   "computePreferences": null,
   "dashboards": [],
   "environmentMetadata": {
    "base_environment": "",
    "client": "1"
   },
   "language": "python",
   "notebookMetadata": {
    "pythonIndentUnit": 4
   },
   "notebookName": "Upsert_With_DatabricksDeltaTable",
   "widgets": {}
  }
 },
 "nbformat": 4,
 "nbformat_minor": 0
}
