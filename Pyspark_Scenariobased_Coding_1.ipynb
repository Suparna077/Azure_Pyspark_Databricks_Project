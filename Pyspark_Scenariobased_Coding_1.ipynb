{
 "cells": [
  {
   "cell_type": "code",
   "execution_count": 0,
   "metadata": {
    "application/vnd.databricks.v1+cell": {
     "cellMetadata": {},
     "inputWidgets": {},
     "nuid": "320b19ff-a093-4419-aa69-97312bdc8c0e",
     "showTitle": false,
     "tableResultSettingsMap": {},
     "title": ""
    }
   },
   "outputs": [],
   "source": [
    "                                    # Scenario 1\n",
    "                                    \n",
    "# Query to get who are getting equal salary\n",
    "# Input :-\n",
    "# +--------+---------+--------+------+-------------------+------+\n",
    "# |workerid|firstname|lastname|salary|        joiningdate|depart|\n",
    "# +--------+---------+--------+------+-------------------+------+\n",
    "# |     001|   Monika|   Arora|100000|2014-02-20 09:00:00|    HR|\n",
    "# |     002| Niharika|   Verma|300000|2014-06-11 09:00:00| Admin|\n",
    "# |     003|   Vishal| Singhal|300000|2014-02-20 09:00:00|    HR|\n",
    "# |     004|  Amitabh|   Singh|500000|2014-02-20 09:00:00| Admin|\n",
    "# |     005|    Vivek|   Bhati|500000|2014-06-11 09:00:00| Admin|\n",
    "# +--------+---------+--------+------+-------------------+------+\n",
    "# Expected Output :-\n",
    "# +--------+---------+--------+------+-------------------+------+\n",
    "# |workerid|firstname|lastname|salary|        joiningdate|depart|\n",
    "# +--------+---------+--------+------+-------------------+------+\n",
    "# |     002| Niharika|   Verma|300000|2014-06-11 09:00:00| Admin|\n",
    "# |     003|   Vishal| Singhal|300000|2014-02-20 09:00:00|    HR|\n",
    "# |     004|  Amitabh|   Singh|500000|2014-02-20 09:00:00| Admin|\n",
    "# |     005|    Vivek|   Bhati|500000|2014-06-11 09:00:00| Admin|\n",
    "# +--------+---------+--------+------+-------------------+------+\n",
    "# Solution :-``\n"
   ]
  },
  {
   "cell_type": "code",
   "execution_count": 0,
   "metadata": {
    "application/vnd.databricks.v1+cell": {
     "cellMetadata": {
      "byteLimit": 2048000,
      "rowLimit": 10000
     },
     "inputWidgets": {},
     "nuid": "670e5bbb-4ef8-4c93-83c1-0e1d27c1fc5d",
     "showTitle": false,
     "tableResultSettingsMap": {},
     "title": ""
    }
   },
   "outputs": [
    {
     "output_type": "display_data",
     "data": {
      "text/html": [
       "<style scoped>\n",
       "  .table-result-container {\n",
       "    max-height: 300px;\n",
       "    overflow: auto;\n",
       "  }\n",
       "  table, th, td {\n",
       "    border: 1px solid black;\n",
       "    border-collapse: collapse;\n",
       "  }\n",
       "  th, td {\n",
       "    padding: 5px;\n",
       "  }\n",
       "  th {\n",
       "    text-align: left;\n",
       "  }\n",
       "</style><div class='table-result-container'><table class='table-result'><thead style='background-color: white'><tr><th>workerid</th><th>firstname</th><th>lastname</th><th>salary</th><th>        joiningdate</th><th>depart</th></tr></thead><tbody><tr><td>1.0</td><td>   Monika</td><td>   Arora</td><td>100000</td><td>2014-02-20T09:00:00Z</td><td>    HR</td></tr><tr><td>2.0</td><td> Niharika</td><td>   Verma</td><td>300000</td><td>2014-06-11T09:00:00Z</td><td> Admin</td></tr><tr><td>3.0</td><td>   Vishal</td><td> Singhal</td><td>300000</td><td>2014-02-20T09:00:00Z</td><td>    HR</td></tr><tr><td>4.0</td><td>  Amitabh</td><td>   Singh</td><td>500000</td><td>2014-02-20T09:00:00Z</td><td> Admin</td></tr><tr><td>5.0</td><td>    Vivek</td><td>   Bhati</td><td>500000</td><td>2014-06-11T09:00:00Z</td><td> Admin</td></tr></tbody></table></div>"
      ]
     },
     "metadata": {
      "application/vnd.databricks.v1+output": {
       "addedWidgets": {},
       "aggData": [],
       "aggError": "",
       "aggOverflow": false,
       "aggSchema": [],
       "aggSeriesLimitReached": false,
       "aggType": "",
       "arguments": {},
       "columnCustomDisplayInfos": {},
       "data": [
        [
         1.0,
         "   Monika",
         "   Arora",
         100000,
         "2014-02-20T09:00:00Z",
         "    HR"
        ],
        [
         2.0,
         " Niharika",
         "   Verma",
         300000,
         "2014-06-11T09:00:00Z",
         " Admin"
        ],
        [
         3.0,
         "   Vishal",
         " Singhal",
         300000,
         "2014-02-20T09:00:00Z",
         "    HR"
        ],
        [
         4.0,
         "  Amitabh",
         "   Singh",
         500000,
         "2014-02-20T09:00:00Z",
         " Admin"
        ],
        [
         5.0,
         "    Vivek",
         "   Bhati",
         500000,
         "2014-06-11T09:00:00Z",
         " Admin"
        ]
       ],
       "datasetInfos": [],
       "dbfsResultPath": null,
       "isJsonSchema": true,
       "metadata": {},
       "overflow": false,
       "plotOptions": {
        "customPlotOptions": {},
        "displayType": "table",
        "pivotAggregation": null,
        "pivotColumns": null,
        "xColumns": null,
        "yColumns": null
       },
       "removedWidgets": [],
       "schema": [
        {
         "metadata": "{}",
         "name": "workerid",
         "type": "\"double\""
        },
        {
         "metadata": "{}",
         "name": "firstname",
         "type": "\"string\""
        },
        {
         "metadata": "{}",
         "name": "lastname",
         "type": "\"string\""
        },
        {
         "metadata": "{}",
         "name": "salary",
         "type": "\"integer\""
        },
        {
         "metadata": "{}",
         "name": "        joiningdate",
         "type": "\"timestamp\""
        },
        {
         "metadata": "{}",
         "name": "depart",
         "type": "\"string\""
        }
       ],
       "type": "table"
      }
     },
     "output_type": "display_data"
    }
   ],
   "source": [
    "# dbfs:/FileStore/tables/Scenario1.csv \n",
    "\n",
    "DF_SC1 = spark.read.format('csv') \\\n",
    "    .option('header',True) \\\n",
    "    .option('inferschema',True) \\\n",
    "    .load('/FileStore/tables/Scenario1.csv')  \n",
    "display(DF_SC1)"
   ]
  },
  {
   "cell_type": "code",
   "execution_count": 0,
   "metadata": {
    "application/vnd.databricks.v1+cell": {
     "cellMetadata": {
      "byteLimit": 2048000,
      "rowLimit": 10000
     },
     "inputWidgets": {},
     "nuid": "f6073600-d280-4dce-b026-ea259fbb22e2",
     "showTitle": false,
     "tableResultSettingsMap": {},
     "title": ""
    }
   },
   "outputs": [
    {
     "output_type": "display_data",
     "data": {
      "text/html": [
       "<style scoped>\n",
       "  .table-result-container {\n",
       "    max-height: 300px;\n",
       "    overflow: auto;\n",
       "  }\n",
       "  table, th, td {\n",
       "    border: 1px solid black;\n",
       "    border-collapse: collapse;\n",
       "  }\n",
       "  th, td {\n",
       "    padding: 5px;\n",
       "  }\n",
       "  th {\n",
       "    text-align: left;\n",
       "  }\n",
       "</style><div class='table-result-container'><table class='table-result'><thead style='background-color: white'><tr><th>workerid</th><th>firstname</th><th>lastname</th><th>salary</th><th>        joiningdate</th><th>depart</th></tr></thead><tbody><tr><td>2.0</td><td> Niharika</td><td>   Verma</td><td>300000</td><td>2014-06-11T09:00:00Z</td><td> Admin</td></tr><tr><td>3.0</td><td>   Vishal</td><td> Singhal</td><td>300000</td><td>2014-02-20T09:00:00Z</td><td>    HR</td></tr><tr><td>4.0</td><td>  Amitabh</td><td>   Singh</td><td>500000</td><td>2014-02-20T09:00:00Z</td><td> Admin</td></tr><tr><td>5.0</td><td>    Vivek</td><td>   Bhati</td><td>500000</td><td>2014-06-11T09:00:00Z</td><td> Admin</td></tr></tbody></table></div>"
      ]
     },
     "metadata": {
      "application/vnd.databricks.v1+output": {
       "addedWidgets": {},
       "aggData": [],
       "aggError": "",
       "aggOverflow": false,
       "aggSchema": [],
       "aggSeriesLimitReached": false,
       "aggType": "",
       "arguments": {},
       "columnCustomDisplayInfos": {},
       "data": [
        [
         2.0,
         " Niharika",
         "   Verma",
         300000,
         "2014-06-11T09:00:00Z",
         " Admin"
        ],
        [
         3.0,
         "   Vishal",
         " Singhal",
         300000,
         "2014-02-20T09:00:00Z",
         "    HR"
        ],
        [
         4.0,
         "  Amitabh",
         "   Singh",
         500000,
         "2014-02-20T09:00:00Z",
         " Admin"
        ],
        [
         5.0,
         "    Vivek",
         "   Bhati",
         500000,
         "2014-06-11T09:00:00Z",
         " Admin"
        ]
       ],
       "datasetInfos": [],
       "dbfsResultPath": null,
       "isJsonSchema": true,
       "metadata": {},
       "overflow": false,
       "plotOptions": {
        "customPlotOptions": {},
        "displayType": "table",
        "pivotAggregation": null,
        "pivotColumns": null,
        "xColumns": null,
        "yColumns": null
       },
       "removedWidgets": [],
       "schema": [
        {
         "metadata": "{}",
         "name": "workerid",
         "type": "\"double\""
        },
        {
         "metadata": "{}",
         "name": "firstname",
         "type": "\"string\""
        },
        {
         "metadata": "{}",
         "name": "lastname",
         "type": "\"string\""
        },
        {
         "metadata": "{}",
         "name": "salary",
         "type": "\"integer\""
        },
        {
         "metadata": "{}",
         "name": "        joiningdate",
         "type": "\"timestamp\""
        },
        {
         "metadata": "{}",
         "name": "depart",
         "type": "\"string\""
        }
       ],
       "type": "table"
      }
     },
     "output_type": "display_data"
    }
   ],
   "source": [
    "from pyspark.sql import functions as F\n",
    "from pyspark.sql import Window as W\n",
    "\n",
    "Salary_Window = W.partitionBy('salary')\n",
    "DF_Columns = DF_SC1.columns\n",
    "DF_SC1 = DF_SC1.withColumn(\"Column_Count\" , F.count('workerid').over(Salary_Window))\n",
    "DF_SC1_Result = DF_SC1.select([F.col(\"{}\".format(str(i))) for i in DF_Columns]).filter(F.col('Column_Count') > 1)\n",
    "display(DF_SC1_Result)"
   ]
  },
  {
   "cell_type": "code",
   "execution_count": 0,
   "metadata": {
    "application/vnd.databricks.v1+cell": {
     "cellMetadata": {},
     "inputWidgets": {},
     "nuid": "70ef27de-2561-48cd-86a7-add78c5229bd",
     "showTitle": false,
     "tableResultSettingsMap": {},
     "title": ""
    }
   },
   "outputs": [],
   "source": [
    "                                        # Scenerio-2\n",
    "# (Need the dates when the status gets changed like ordered to dispatched)\n",
    "# Input :-\n",
    "# +-------+----------+----------+\n",
    "# |orderid|statusdate|    status|\n",
    "# +-------+----------+----------+\n",
    "# |      1|     1-Jan|   Ordered|\n",
    "# |      1|     2-Jan|dispatched|\n",
    "# |      1|     3-Jan|dispatched|\n",
    "# |      1|     4-Jan|   Shipped|\n",
    "# |      1|     5-Jan|   Shipped|\n",
    "# |      1|     6-Jan| Delivered|\n",
    "# |      2|     1-Jan|   Ordered|\n",
    "# |      2|     2-Jan|dispatched|\n",
    "# |      2|     3-Jan|   shipped|\n",
    "# +-------+----------+----------+\n",
    "# Expected Output :-\n",
    "# +-------+----------+----------+\n",
    "# |orderid|statusdate|    status|\n",
    "# +-------+----------+----------+\n",
    "# |      1|     2-Jan|dispatched|\n",
    "# |      1|     3-Jan|dispatched|\n",
    "# |      2|     2-Jan|dispatched|\n",
    "# +-------+----------+----------+"
   ]
  },
  {
   "cell_type": "code",
   "execution_count": 0,
   "metadata": {
    "application/vnd.databricks.v1+cell": {
     "cellMetadata": {
      "byteLimit": 2048000,
      "rowLimit": 10000
     },
     "inputWidgets": {},
     "nuid": "21588810-ee62-4868-8dd6-2cfd7f8487c0",
     "showTitle": false,
     "tableResultSettingsMap": {},
     "title": ""
    }
   },
   "outputs": [
    {
     "output_type": "display_data",
     "data": {
      "text/html": [
       "<style scoped>\n",
       "  .table-result-container {\n",
       "    max-height: 300px;\n",
       "    overflow: auto;\n",
       "  }\n",
       "  table, th, td {\n",
       "    border: 1px solid black;\n",
       "    border-collapse: collapse;\n",
       "  }\n",
       "  th, td {\n",
       "    padding: 5px;\n",
       "  }\n",
       "  th {\n",
       "    text-align: left;\n",
       "  }\n",
       "</style><div class='table-result-container'><table class='table-result'><thead style='background-color: white'><tr><th>orderid</th><th>statusdate</th><th>status</th></tr></thead><tbody><tr><td>1</td><td>01-Jan</td><td>   Ordered</td></tr><tr><td>1</td><td>02-Jan</td><td>dispatched</td></tr><tr><td>1</td><td>03-Jan</td><td>dispatched</td></tr><tr><td>1</td><td>04-Jan</td><td>   Shipped</td></tr><tr><td>1</td><td>05-Jan</td><td>   Shipped</td></tr><tr><td>1</td><td>06-Jan</td><td> Delivered</td></tr><tr><td>2</td><td>01-Jan</td><td>   Ordered</td></tr><tr><td>2</td><td>02-Jan</td><td>dispatched</td></tr><tr><td>2</td><td>03-Jan</td><td>   shipped</td></tr></tbody></table></div>"
      ]
     },
     "metadata": {
      "application/vnd.databricks.v1+output": {
       "addedWidgets": {},
       "aggData": [],
       "aggError": "",
       "aggOverflow": false,
       "aggSchema": [],
       "aggSeriesLimitReached": false,
       "aggType": "",
       "arguments": {},
       "columnCustomDisplayInfos": {},
       "data": [
        [
         1,
         "01-Jan",
         "   Ordered"
        ],
        [
         1,
         "02-Jan",
         "dispatched"
        ],
        [
         1,
         "03-Jan",
         "dispatched"
        ],
        [
         1,
         "04-Jan",
         "   Shipped"
        ],
        [
         1,
         "05-Jan",
         "   Shipped"
        ],
        [
         1,
         "06-Jan",
         " Delivered"
        ],
        [
         2,
         "01-Jan",
         "   Ordered"
        ],
        [
         2,
         "02-Jan",
         "dispatched"
        ],
        [
         2,
         "03-Jan",
         "   shipped"
        ]
       ],
       "datasetInfos": [],
       "dbfsResultPath": null,
       "isJsonSchema": true,
       "metadata": {},
       "overflow": false,
       "plotOptions": {
        "customPlotOptions": {},
        "displayType": "table",
        "pivotAggregation": null,
        "pivotColumns": null,
        "xColumns": null,
        "yColumns": null
       },
       "removedWidgets": [],
       "schema": [
        {
         "metadata": "{}",
         "name": "orderid",
         "type": "\"integer\""
        },
        {
         "metadata": "{}",
         "name": "statusdate",
         "type": "\"string\""
        },
        {
         "metadata": "{}",
         "name": "status",
         "type": "\"string\""
        }
       ],
       "type": "table"
      }
     },
     "output_type": "display_data"
    }
   ],
   "source": [
    "DF_SC2 = spark.read.format('csv') \\\n",
    "    .option('header' , True) \\\n",
    "    .option('inferschema' , True) \\\n",
    "    .load('/FileStore/tables/Scenario2-1.csv')\n",
    "\n",
    "display(DF_SC2)"
   ]
  },
  {
   "cell_type": "code",
   "execution_count": 0,
   "metadata": {
    "application/vnd.databricks.v1+cell": {
     "cellMetadata": {
      "byteLimit": 2048000,
      "rowLimit": 10000
     },
     "inputWidgets": {},
     "nuid": "dd813a6b-33be-4ef1-ae3c-a031eaa262a5",
     "showTitle": false,
     "tableResultSettingsMap": {},
     "title": ""
    }
   },
   "outputs": [
    {
     "output_type": "display_data",
     "data": {
      "text/html": [
       "<style scoped>\n",
       "  .table-result-container {\n",
       "    max-height: 300px;\n",
       "    overflow: auto;\n",
       "  }\n",
       "  table, th, td {\n",
       "    border: 1px solid black;\n",
       "    border-collapse: collapse;\n",
       "  }\n",
       "  th, td {\n",
       "    padding: 5px;\n",
       "  }\n",
       "  th {\n",
       "    text-align: left;\n",
       "  }\n",
       "</style><div class='table-result-container'><table class='table-result'><thead style='background-color: white'><tr><th>orderid</th><th>statusdate</th><th>status</th><th>Row_ID</th><th>Previous</th></tr></thead><tbody><tr><td>1</td><td>02-Jan</td><td>dispatched</td><td>2</td><td>   Ordered</td></tr><tr><td>1</td><td>03-Jan</td><td>dispatched</td><td>3</td><td>dispatched</td></tr><tr><td>2</td><td>02-Jan</td><td>dispatched</td><td>8</td><td>   Ordered</td></tr></tbody></table></div>"
      ]
     },
     "metadata": {
      "application/vnd.databricks.v1+output": {
       "addedWidgets": {},
       "aggData": [],
       "aggError": "",
       "aggOverflow": false,
       "aggSchema": [],
       "aggSeriesLimitReached": false,
       "aggType": "",
       "arguments": {},
       "columnCustomDisplayInfos": {},
       "data": [
        [
         1,
         "02-Jan",
         "dispatched",
         2,
         "   Ordered"
        ],
        [
         1,
         "03-Jan",
         "dispatched",
         3,
         "dispatched"
        ],
        [
         2,
         "02-Jan",
         "dispatched",
         8,
         "   Ordered"
        ]
       ],
       "datasetInfos": [],
       "dbfsResultPath": null,
       "isJsonSchema": true,
       "metadata": {},
       "overflow": false,
       "plotOptions": {
        "customPlotOptions": {},
        "displayType": "table",
        "pivotAggregation": null,
        "pivotColumns": null,
        "xColumns": null,
        "yColumns": null
       },
       "removedWidgets": [],
       "schema": [
        {
         "metadata": "{}",
         "name": "orderid",
         "type": "\"integer\""
        },
        {
         "metadata": "{}",
         "name": "statusdate",
         "type": "\"string\""
        },
        {
         "metadata": "{}",
         "name": "status",
         "type": "\"string\""
        },
        {
         "metadata": "{}",
         "name": "Row_ID",
         "type": "\"integer\""
        },
        {
         "metadata": "{}",
         "name": "Previous",
         "type": "\"string\""
        }
       ],
       "type": "table"
      }
     },
     "output_type": "display_data"
    }
   ],
   "source": [
    "from pyspark.sql import functions as F \n",
    "from pyspark.sql import Window as W\n",
    "from pyspark.sql.types import IntegerType\n",
    "\n",
    "# Row_Window = W().orderBy('statusdate')\n",
    "DF_Header_SC2 = DF_SC2.columns\n",
    "DF_SC2 = DF_SC2.withColumn(\"Temp\" , F.monotonically_increasing_id())\n",
    "RW = W().orderBy(\"Temp\")\n",
    "DF_SC2 = DF_SC2.withColumn(\"Row_ID\" , F.row_number().over(RW))\n",
    "DF_SC2 = DF_SC2.drop(\"Temp\")\n",
    "LagW = W().orderBy(\"Row_ID\")\n",
    "DF_SC2 = DF_SC2.withColumn(\"Previous\" , F.lag(F.col(\"status\"),1).over(LagW))\n",
    "DF_SC2_Result = DF_SC2.select([F.col(\"{}\".format(str(i))) for i in DF_Header_SC2]) \\\n",
    "                .filter((F.col(\"status\").contains('dispatched') & F.col(\"Previous\").contains('Ordered')) | \\\n",
    "                (F.col(\"status\").contains('dispatched') & F.col(\"Previous\").contains('dispatched')))\n",
    " \n",
    "display(DF_SC2_Result)"
   ]
  },
  {
   "cell_type": "code",
   "execution_count": 0,
   "metadata": {
    "application/vnd.databricks.v1+cell": {
     "cellMetadata": {
      "byteLimit": 2048000,
      "rowLimit": 10000
     },
     "inputWidgets": {},
     "nuid": "5f929347-3d80-45ce-9fd4-eacb9d326854",
     "showTitle": false,
     "tableResultSettingsMap": {},
     "title": ""
    }
   },
   "outputs": [
    {
     "output_type": "display_data",
     "data": {
      "text/html": [
       "<style scoped>\n",
       "  .table-result-container {\n",
       "    max-height: 300px;\n",
       "    overflow: auto;\n",
       "  }\n",
       "  table, th, td {\n",
       "    border: 1px solid black;\n",
       "    border-collapse: collapse;\n",
       "  }\n",
       "  th, td {\n",
       "    padding: 5px;\n",
       "  }\n",
       "  th {\n",
       "    text-align: left;\n",
       "  }\n",
       "</style><div class='table-result-container'><table class='table-result'><thead style='background-color: white'><tr><th>orderid</th><th>statusdate</th><th>status</th><th>Row_ID</th><th>Previous</th></tr></thead><tbody><tr><td>1</td><td>02-Jan</td><td>dispatched</td><td>2</td><td>   Ordered</td></tr><tr><td>1</td><td>03-Jan</td><td>dispatched</td><td>3</td><td>dispatched</td></tr><tr><td>2</td><td>02-Jan</td><td>dispatched</td><td>8</td><td>   Ordered</td></tr></tbody></table></div>"
      ]
     },
     "metadata": {
      "application/vnd.databricks.v1+output": {
       "addedWidgets": {},
       "aggData": [],
       "aggError": "",
       "aggOverflow": false,
       "aggSchema": [],
       "aggSeriesLimitReached": false,
       "aggType": "",
       "arguments": {},
       "columnCustomDisplayInfos": {},
       "data": [
        [
         1,
         "02-Jan",
         "dispatched",
         2,
         "   Ordered"
        ],
        [
         1,
         "03-Jan",
         "dispatched",
         3,
         "dispatched"
        ],
        [
         2,
         "02-Jan",
         "dispatched",
         8,
         "   Ordered"
        ]
       ],
       "datasetInfos": [],
       "dbfsResultPath": null,
       "isJsonSchema": true,
       "metadata": {},
       "overflow": false,
       "plotOptions": {
        "customPlotOptions": {},
        "displayType": "table",
        "pivotAggregation": null,
        "pivotColumns": null,
        "xColumns": null,
        "yColumns": null
       },
       "removedWidgets": [],
       "schema": [
        {
         "metadata": "{}",
         "name": "orderid",
         "type": "\"integer\""
        },
        {
         "metadata": "{}",
         "name": "statusdate",
         "type": "\"string\""
        },
        {
         "metadata": "{}",
         "name": "status",
         "type": "\"string\""
        },
        {
         "metadata": "{}",
         "name": "Row_ID",
         "type": "\"integer\""
        },
        {
         "metadata": "{}",
         "name": "Previous",
         "type": "\"string\""
        }
       ],
       "type": "table"
      }
     },
     "output_type": "display_data"
    }
   ],
   "source": [
    "result = DF_SC2.filter(\n",
    "    (F.col(\"status\") == \"dispatched\") &\n",
    "    (F.col(\"orderid\").isin(\n",
    "        [F.col('orderid') for row in DF_SC2.filter(F.col(\"status\") == 'Ordered').select(\"orderid\")]\n",
    "    )))\n",
    "\n",
    "display(result)"
   ]
  },
  {
   "cell_type": "code",
   "execution_count": 0,
   "metadata": {
    "application/vnd.databricks.v1+cell": {
     "cellMetadata": {},
     "inputWidgets": {},
     "nuid": "df2f66fc-045d-4c80-9f54-c2bd25b52796",
     "showTitle": false,
     "tableResultSettingsMap": {},
     "title": ""
    }
   },
   "outputs": [],
   "source": [
    "                                                        # Scenerio-3\n",
    "# Input :-\n",
    "# +--------+----------+------+\n",
    "# |sensorid| timestamp|values|\n",
    "# +--------+----------+------+\n",
    "# |    1111|2021-01-15|    10|\n",
    "# |    1111|2021-01-16|    15|\n",
    "# |    1111|2021-01-17|    30|\n",
    "# |    1112|2021-01-15|    10|\n",
    "# |    1112|2021-01-15|    20|\n",
    "# |    1112|2021-01-15|    30|\n",
    "# +--------+----------+------+\n",
    "# Expected Output :-\n",
    "# +--------+----------+------+\n",
    "# |sensorid| timestamp|values|\n",
    "# +--------+----------+------+\n",
    "# |    1111|2021-01-15|     5|\n",
    "# |    1111|2021-01-16|    15|\n",
    "# |    1112|2021-01-15|    10|\n",
    "# |    1112|2021-01-15|    10|\n",
    "# +--------+----------+------+"
   ]
  },
  {
   "cell_type": "code",
   "execution_count": 0,
   "metadata": {
    "application/vnd.databricks.v1+cell": {
     "cellMetadata": {
      "byteLimit": 2048000,
      "rowLimit": 10000
     },
     "inputWidgets": {},
     "nuid": "27d807a1-9de9-4b7d-a0da-6534e54fb7ea",
     "showTitle": false,
     "tableResultSettingsMap": {},
     "title": ""
    }
   },
   "outputs": [
    {
     "output_type": "display_data",
     "data": {
      "text/html": [
       "<style scoped>\n",
       "  .table-result-container {\n",
       "    max-height: 300px;\n",
       "    overflow: auto;\n",
       "  }\n",
       "  table, th, td {\n",
       "    border: 1px solid black;\n",
       "    border-collapse: collapse;\n",
       "  }\n",
       "  th, td {\n",
       "    padding: 5px;\n",
       "  }\n",
       "  th {\n",
       "    text-align: left;\n",
       "  }\n",
       "</style><div class='table-result-container'><table class='table-result'><thead style='background-color: white'><tr><th>sensorid</th><th>timestamp</th><th>values</th></tr></thead><tbody><tr><td>1111.0</td><td>2021-01-15</td><td>10.0</td></tr><tr><td>1111.0</td><td>2021-01-16</td><td>15.0</td></tr><tr><td>1111.0</td><td>2021-01-17</td><td>30.0</td></tr><tr><td>1112.0</td><td>2021-01-15</td><td>10.0</td></tr><tr><td>1112.0</td><td>2021-01-15</td><td>20.0</td></tr><tr><td>1112.0</td><td>2021-01-15</td><td>30.0</td></tr></tbody></table></div>"
      ]
     },
     "metadata": {
      "application/vnd.databricks.v1+output": {
       "addedWidgets": {},
       "aggData": [],
       "aggError": "",
       "aggOverflow": false,
       "aggSchema": [],
       "aggSeriesLimitReached": false,
       "aggType": "",
       "arguments": {},
       "columnCustomDisplayInfos": {},
       "data": [
        [
         1111.0,
         "2021-01-15",
         10.0
        ],
        [
         1111.0,
         "2021-01-16",
         15.0
        ],
        [
         1111.0,
         "2021-01-17",
         30.0
        ],
        [
         1112.0,
         "2021-01-15",
         10.0
        ],
        [
         1112.0,
         "2021-01-15",
         20.0
        ],
        [
         1112.0,
         "2021-01-15",
         30.0
        ]
       ],
       "datasetInfos": [],
       "dbfsResultPath": null,
       "isJsonSchema": true,
       "metadata": {},
       "overflow": false,
       "plotOptions": {
        "customPlotOptions": {},
        "displayType": "table",
        "pivotAggregation": null,
        "pivotColumns": null,
        "xColumns": null,
        "yColumns": null
       },
       "removedWidgets": [],
       "schema": [
        {
         "metadata": "{}",
         "name": "sensorid",
         "type": "\"double\""
        },
        {
         "metadata": "{\"__detected_date_formats\":\"yyyy-M-d\"}",
         "name": "timestamp",
         "type": "\"date\""
        },
        {
         "metadata": "{}",
         "name": "values",
         "type": "\"double\""
        }
       ],
       "type": "table"
      }
     },
     "output_type": "display_data"
    }
   ],
   "source": [
    "File_Path_SC3 =  \"/FileStore/tables/Scenario3.csv\"\n",
    "\n",
    "DF_SC3 = spark.read.format('csv') \\\n",
    "    .option('header' , True) \\\n",
    "    .option('inferschema' , True) \\\n",
    "    .load(File_Path_SC3)\n",
    "\n",
    "display(DF_SC3)"
   ]
  },
  {
   "cell_type": "code",
   "execution_count": 0,
   "metadata": {
    "application/vnd.databricks.v1+cell": {
     "cellMetadata": {
      "byteLimit": 2048000,
      "rowLimit": 10000
     },
     "inputWidgets": {},
     "nuid": "5ac8f894-cf9c-45ea-9f4c-85b361ac5d1a",
     "showTitle": false,
     "tableResultSettingsMap": {},
     "title": ""
    }
   },
   "outputs": [
    {
     "output_type": "display_data",
     "data": {
      "text/html": [
       "<style scoped>\n",
       "  .table-result-container {\n",
       "    max-height: 300px;\n",
       "    overflow: auto;\n",
       "  }\n",
       "  table, th, td {\n",
       "    border: 1px solid black;\n",
       "    border-collapse: collapse;\n",
       "  }\n",
       "  th, td {\n",
       "    padding: 5px;\n",
       "  }\n",
       "  th {\n",
       "    text-align: left;\n",
       "  }\n",
       "</style><div class='table-result-container'><table class='table-result'><thead style='background-color: white'><tr><th>sensorid</th><th>timestamp</th><th>values</th></tr></thead><tbody><tr><td>1111.0</td><td>2021-01-15</td><td>5.0</td></tr><tr><td>1111.0</td><td>2021-01-16</td><td>15.0</td></tr><tr><td>1112.0</td><td>2021-01-15</td><td>10.0</td></tr><tr><td>1112.0</td><td>2021-01-15</td><td>10.0</td></tr></tbody></table></div>"
      ]
     },
     "metadata": {
      "application/vnd.databricks.v1+output": {
       "addedWidgets": {},
       "aggData": [],
       "aggError": "",
       "aggOverflow": false,
       "aggSchema": [],
       "aggSeriesLimitReached": false,
       "aggType": "",
       "arguments": {},
       "columnCustomDisplayInfos": {},
       "data": [
        [
         1111.0,
         "2021-01-15",
         5.0
        ],
        [
         1111.0,
         "2021-01-16",
         15.0
        ],
        [
         1112.0,
         "2021-01-15",
         10.0
        ],
        [
         1112.0,
         "2021-01-15",
         10.0
        ]
       ],
       "datasetInfos": [],
       "dbfsResultPath": null,
       "isJsonSchema": true,
       "metadata": {},
       "overflow": false,
       "plotOptions": {
        "customPlotOptions": {},
        "displayType": "table",
        "pivotAggregation": null,
        "pivotColumns": null,
        "xColumns": null,
        "yColumns": null
       },
       "removedWidgets": [],
       "schema": [
        {
         "metadata": "{}",
         "name": "sensorid",
         "type": "\"double\""
        },
        {
         "metadata": "{\"__detected_date_formats\":\"yyyy-M-d\"}",
         "name": "timestamp",
         "type": "\"date\""
        },
        {
         "metadata": "{}",
         "name": "values",
         "type": "\"double\""
        }
       ],
       "type": "table"
      }
     },
     "output_type": "display_data"
    }
   ],
   "source": [
    "from pyspark.sql.functions import *\n",
    "from pyspark.sql.window import *\n",
    "\n",
    "DF_Header_SC3 = DF_SC3.columns\n",
    "DF_SC3 = DF_SC3.withColumn(\"ID\",monotonically_increasing_id())\n",
    "LeadW = W().partitionBy('sensorid').orderBy(\"ID\") \n",
    "DF_SC3_Result = DF_SC3.withColumn(\"Next_values\" , lead(col('values'),1).over(LeadW)) \\\n",
    "                .filter(col('Next_values').isNotNull()) \\\n",
    "                .withColumn(\"values\" , expr(\"Next_values - values\")) \\\n",
    "                .drop(\"Next_values\") \\\n",
    "                .drop(\"ID\")\n",
    "    \n",
    "display(DF_SC3_Result)"
   ]
  },
  {
   "cell_type": "code",
   "execution_count": 0,
   "metadata": {
    "application/vnd.databricks.v1+cell": {
     "cellMetadata": {
      "byteLimit": 2048000,
      "rowLimit": 10000
     },
     "inputWidgets": {},
     "nuid": "18d0925e-1383-4796-8854-428abc2e063d",
     "showTitle": false,
     "tableResultSettingsMap": {},
     "title": ""
    }
   },
   "outputs": [],
   "source": [
    "                                                # Scenerio-4\n",
    "# (Write a query to list the unique customer names in the custtab table, along with the number of addresses associated with each customer.)\n",
    "# Input :-\n",
    "# +------+-----------+-------+\n",
    "# |custid|   custname|address|\n",
    "# +------+-----------+-------+\n",
    "# |     1|   Mark Ray|     AB|\n",
    "# |     2|Peter Smith|     CD|\n",
    "# |     1|   Mark Ray|     EF|\n",
    "# |     2|Peter Smith|     GH|\n",
    "# |     2|Peter Smith|     CD|\n",
    "# |     3|       Kate|     IJ|\n",
    "# +------+-----------+-------+\n",
    "# Expected Output :-\n",
    "# +------+-----------+--------+\n",
    "# |custid|   custname| address|\n",
    "# +------+-----------+--------+\n",
    "# |     1|   Mark Ray|[EF, AB]|\n",
    "# |     2|Peter Smith|[CD, GH]|\n",
    "# |     3|       Kate|    [IJ]|\n",
    "# +------+-----------+--------+"
   ]
  },
  {
   "cell_type": "code",
   "execution_count": 0,
   "metadata": {
    "application/vnd.databricks.v1+cell": {
     "cellMetadata": {
      "byteLimit": 2048000,
      "rowLimit": 10000
     },
     "inputWidgets": {},
     "nuid": "f803e0e4-17fe-4a88-b8ae-d249e3b33b1b",
     "showTitle": false,
     "tableResultSettingsMap": {},
     "title": ""
    }
   },
   "outputs": [
    {
     "output_type": "display_data",
     "data": {
      "text/html": [
       "<style scoped>\n",
       "  .table-result-container {\n",
       "    max-height: 300px;\n",
       "    overflow: auto;\n",
       "  }\n",
       "  table, th, td {\n",
       "    border: 1px solid black;\n",
       "    border-collapse: collapse;\n",
       "  }\n",
       "  th, td {\n",
       "    padding: 5px;\n",
       "  }\n",
       "  th {\n",
       "    text-align: left;\n",
       "  }\n",
       "</style><div class='table-result-container'><table class='table-result'><thead style='background-color: white'><tr><th>custid</th><th>custname</th><th>address</th></tr></thead><tbody><tr><td>1</td><td>Mark Ray</td><td>AB</td></tr><tr><td>2</td><td>Peter Smith</td><td>CD</td></tr><tr><td>1</td><td>Mark Ray</td><td>EF</td></tr><tr><td>2</td><td>Peter Smith</td><td>GH</td></tr><tr><td>2</td><td>Peter Smith</td><td>CD</td></tr><tr><td>3</td><td>Kate</td><td>IJ</td></tr></tbody></table></div>"
      ]
     },
     "metadata": {
      "application/vnd.databricks.v1+output": {
       "addedWidgets": {},
       "aggData": [],
       "aggError": "",
       "aggOverflow": false,
       "aggSchema": [],
       "aggSeriesLimitReached": false,
       "aggType": "",
       "arguments": {},
       "columnCustomDisplayInfos": {},
       "data": [
        [
         1,
         "Mark Ray",
         "AB"
        ],
        [
         2,
         "Peter Smith",
         "CD"
        ],
        [
         1,
         "Mark Ray",
         "EF"
        ],
        [
         2,
         "Peter Smith",
         "GH"
        ],
        [
         2,
         "Peter Smith",
         "CD"
        ],
        [
         3,
         "Kate",
         "IJ"
        ]
       ],
       "datasetInfos": [],
       "dbfsResultPath": null,
       "isJsonSchema": true,
       "metadata": {},
       "overflow": false,
       "plotOptions": {
        "customPlotOptions": {},
        "displayType": "table",
        "pivotAggregation": null,
        "pivotColumns": null,
        "xColumns": null,
        "yColumns": null
       },
       "removedWidgets": [],
       "schema": [
        {
         "metadata": "{}",
         "name": "custid",
         "type": "\"long\""
        },
        {
         "metadata": "{}",
         "name": "custname",
         "type": "\"string\""
        },
        {
         "metadata": "{}",
         "name": "address",
         "type": "\"string\""
        }
       ],
       "type": "table"
      }
     },
     "output_type": "display_data"
    }
   ],
   "source": [
    "data = [(1, \"Mark Ray\", \"AB\"),\n",
    "        (2, \"Peter Smith\", \"CD\"),\n",
    "        (1, \"Mark Ray\", \"EF\"),\n",
    "        (2, \"Peter Smith\", \"GH\"),\n",
    "        (2, \"Peter Smith\", \"CD\"),\n",
    "        (3, \"Kate\", \"IJ\")]\n",
    "myschema = [\"custid\", \"custname\", \"address\"]\n",
    "\n",
    "DF_SC4 = spark.createDataFrame(data,myschema)\n",
    "\n",
    "display(DF_SC4)"
   ]
  },
  {
   "cell_type": "code",
   "execution_count": 0,
   "metadata": {
    "application/vnd.databricks.v1+cell": {
     "cellMetadata": {
      "byteLimit": 2048000,
      "rowLimit": 10000
     },
     "inputWidgets": {},
     "nuid": "6a498e82-8d44-41a5-85ed-714d09c79cb7",
     "showTitle": false,
     "tableResultSettingsMap": {},
     "title": ""
    }
   },
   "outputs": [
    {
     "output_type": "stream",
     "name": "stdout",
     "output_type": "stream",
     "text": [
      "+------+-----------+-------+-----------+------+-----------+-------+\n|custid|   custname|address|address_trf|custid|   custname|address|\n+------+-----------+-------+-----------+------+-----------+-------+\n|     3|       Kate|     IJ|       [IJ]|     1|   Mark Ray|     AB|\n|     2|Peter Smith|     CD|   [CD, GH]|     1|   Mark Ray|     AB|\n|     3|       Kate|     IJ|       [IJ]|     2|Peter Smith|     CD|\n|     3|       Kate|     IJ|       [IJ]|     1|   Mark Ray|     EF|\n|     2|Peter Smith|     CD|   [CD, GH]|     1|   Mark Ray|     EF|\n|     3|       Kate|     IJ|       [IJ]|     2|Peter Smith|     GH|\n|     3|       Kate|     IJ|       [IJ]|     2|Peter Smith|     CD|\n+------+-----------+-------+-----------+------+-----------+-------+\n\n+------+-----------+-------+-----------+\n|custid|   custname|address|address_trf|\n+------+-----------+-------+-----------+\n|     1|   Mark Ray|     AB|   [EF, AB]|\n|     2|Peter Smith|     CD|   [CD, GH]|\n|     3|       Kate|     IJ|       [IJ]|\n+------+-----------+-------+-----------+\n\n"
     ]
    }
   ],
   "source": [
    "from pyspark.sql.functions import *\n",
    "from pyspark.sql.window import *\n",
    "\n",
    "AddrW = Window().partitionBy('custname')\n",
    "\n",
    "DF_SC4_Result = DF_SC4.withColumn(\"address_trf\" , collect_set('address').over(AddrW)).dropDuplicates(['custname']).orderBy('custid')\n",
    "\n",
    "DF_SC4_Result.alias('a').join(DF_SC4.alias('b') , col('a.custid') > col('b.custid') , how='inner').show()\n",
    "\n",
    "DF_SC4_Result.show()"
   ]
  },
  {
   "cell_type": "code",
   "execution_count": 0,
   "metadata": {
    "application/vnd.databricks.v1+cell": {
     "cellMetadata": {
      "byteLimit": 2048000,
      "rowLimit": 10000
     },
     "inputWidgets": {},
     "nuid": "68f9122e-2662-4c8f-87a6-ba2d55c8ea57",
     "showTitle": false,
     "tableResultSettingsMap": {},
     "title": ""
    }
   },
   "outputs": [
    {
     "output_type": "stream",
     "name": "stdout",
     "output_type": "stream",
     "text": [
      "+--------+\n|   teams|\n+--------+\n|   India|\n|Pakistan|\n|SriLanka|\n+--------+\n\n"
     ]
    }
   ],
   "source": [
    "data = [\n",
    "    (\"India\",),\n",
    "    (\"Pakistan\",),\n",
    "    (\"SriLanka\",)\n",
    "]\n",
    "myschema = [\"teams\"]\n",
    "df = spark.createDataFrame(data, schema=myschema)\n",
    "df.show()"
   ]
  },
  {
   "cell_type": "code",
   "execution_count": 0,
   "metadata": {
    "application/vnd.databricks.v1+cell": {
     "cellMetadata": {
      "byteLimit": 2048000,
      "rowLimit": 10000
     },
     "inputWidgets": {},
     "nuid": "d4549720-6d9d-4853-b059-22056c4b025b",
     "showTitle": false,
     "tableResultSettingsMap": {},
     "title": ""
    }
   },
   "outputs": [
    {
     "output_type": "stream",
     "name": "stdout",
     "output_type": "stream",
     "text": [
      "+--------+--------+\n|   teams|   teams|\n+--------+--------+\n|   India|Pakistan|\n|   India|SriLanka|\n|Pakistan|SriLanka|\n+--------+--------+\n\n+--------------------+\n|             matches|\n+--------------------+\n|   India Vs Pakistan|\n|   India Vs SriLanka|\n|Pakistan Vs SriLanka|\n+--------------------+\n\n"
     ]
    }
   ],
   "source": [
    "from pyspark.sql.functions import *\n",
    "from pyspark.sql.window import *\n",
    "\n",
    "joindf = df.alias(\"a\").join(df.alias(\"b\"), col(\"a.teams\") < col(\"b.teams\"), \"inner\")\n",
    "joindf.show()\n",
    "\n",
    "finaldf = joindf.withColumn(\"matches\", expr(\"concat(a.teams,' Vs ',b.teams)\")).drop(\"teams\", \"teams\").show()"
   ]
  },
  {
   "cell_type": "code",
   "execution_count": 0,
   "metadata": {
    "application/vnd.databricks.v1+cell": {
     "cellMetadata": {},
     "inputWidgets": {},
     "nuid": "4ff6f08d-d52b-417e-971f-e54920ee5173",
     "showTitle": false,
     "tableResultSettingsMap": {},
     "title": ""
    }
   },
   "outputs": [],
   "source": [
    "                                                # Scenerio-6\n",
    "# (For Employee salary greater than 10000 give designation as manager else employee)\n",
    "# Input :-\n",
    "# +-----+----+------+\n",
    "# |empid|name|salary|\n",
    "# +-----+----+------+\n",
    "# |    1|   a| 10000|\n",
    "# |    2|   b|  5000|\n",
    "# |    3|   c| 15000|\n",
    "# |    4|   d| 25000|\n",
    "# |    5|   e| 50000|\n",
    "# |    6|   f|  7000|\n",
    "# +-----+----+------+\n",
    "# Expected Output :-\n",
    "# +-----+----+------+-----------+\n",
    "# |empid|name|salary|Designation|\n",
    "# +-----+----+------+-----------+\n",
    "# |    1|   a| 10000|   Employee|\n",
    "# |    2|   b|  5000|   Employee|\n",
    "# |    3|   c| 15000|    Manager|\n",
    "# |    4|   d| 25000|    Manager|\n",
    "# |    5|   e| 50000|    Manager|\n",
    "# |    6|   f|  7000|   Employee|\n",
    "# +-----+----+------+-----------+"
   ]
  },
  {
   "cell_type": "code",
   "execution_count": 0,
   "metadata": {
    "application/vnd.databricks.v1+cell": {
     "cellMetadata": {
      "byteLimit": 2048000,
      "rowLimit": 10000
     },
     "inputWidgets": {},
     "nuid": "859dc6ca-0f37-4e85-9dd9-4294aa37201a",
     "showTitle": false,
     "tableResultSettingsMap": {},
     "title": ""
    }
   },
   "outputs": [
    {
     "output_type": "display_data",
     "data": {
      "text/html": [
       "<style scoped>\n",
       "  .table-result-container {\n",
       "    max-height: 300px;\n",
       "    overflow: auto;\n",
       "  }\n",
       "  table, th, td {\n",
       "    border: 1px solid black;\n",
       "    border-collapse: collapse;\n",
       "  }\n",
       "  th, td {\n",
       "    padding: 5px;\n",
       "  }\n",
       "  th {\n",
       "    text-align: left;\n",
       "  }\n",
       "</style><div class='table-result-container'><table class='table-result'><thead style='background-color: white'><tr><th>empid</th><th>name</th><th>salary</th></tr></thead><tbody><tr><td>1</td><td>a</td><td>10000</td></tr><tr><td>2</td><td>b</td><td>5000</td></tr><tr><td>3</td><td>c</td><td>15000</td></tr><tr><td>4</td><td>d</td><td>25000</td></tr><tr><td>5</td><td>e</td><td>50000</td></tr><tr><td>6</td><td>f</td><td>7000</td></tr></tbody></table></div>"
      ]
     },
     "metadata": {
      "application/vnd.databricks.v1+output": {
       "addedWidgets": {},
       "aggData": [],
       "aggError": "",
       "aggOverflow": false,
       "aggSchema": [],
       "aggSeriesLimitReached": false,
       "aggType": "",
       "arguments": {},
       "columnCustomDisplayInfos": {},
       "data": [
        [
         "1",
         "a",
         "10000"
        ],
        [
         "2",
         "b",
         "5000"
        ],
        [
         "3",
         "c",
         "15000"
        ],
        [
         "4",
         "d",
         "25000"
        ],
        [
         "5",
         "e",
         "50000"
        ],
        [
         "6",
         "f",
         "7000"
        ]
       ],
       "datasetInfos": [],
       "dbfsResultPath": null,
       "isJsonSchema": true,
       "metadata": {},
       "overflow": false,
       "plotOptions": {
        "customPlotOptions": {},
        "displayType": "table",
        "pivotAggregation": null,
        "pivotColumns": null,
        "xColumns": null,
        "yColumns": null
       },
       "removedWidgets": [],
       "schema": [
        {
         "metadata": "{}",
         "name": "empid",
         "type": "\"string\""
        },
        {
         "metadata": "{}",
         "name": "name",
         "type": "\"string\""
        },
        {
         "metadata": "{}",
         "name": "salary",
         "type": "\"string\""
        }
       ],
       "type": "table"
      }
     },
     "output_type": "display_data"
    }
   ],
   "source": [
    "data1 = [\n",
    "      (\"1\", \"a\", \"10000\"),\n",
    "      (\"2\", \"b\", \"5000\"),\n",
    "      (\"3\", \"c\", \"15000\"),\n",
    "      (\"4\", \"d\", \"25000\"),\n",
    "      (\"5\", \"e\", \"50000\"),\n",
    "      (\"6\", \"f\", \"7000\")\n",
    "]\n",
    "myschema1 = [\"empid\",\"name\",\"salary\"]\n",
    "\n",
    "DF_SC5 = spark.createDataFrame(data1,myschema1)\n",
    "display(DF_SC5)"
   ]
  },
  {
   "cell_type": "code",
   "execution_count": 0,
   "metadata": {
    "application/vnd.databricks.v1+cell": {
     "cellMetadata": {
      "byteLimit": 2048000,
      "rowLimit": 10000
     },
     "inputWidgets": {},
     "nuid": "96b5571b-9b02-47df-85c3-2097a5206100",
     "showTitle": false,
     "tableResultSettingsMap": {},
     "title": ""
    }
   },
   "outputs": [
    {
     "output_type": "display_data",
     "data": {
      "text/html": [
       "<style scoped>\n",
       "  .table-result-container {\n",
       "    max-height: 300px;\n",
       "    overflow: auto;\n",
       "  }\n",
       "  table, th, td {\n",
       "    border: 1px solid black;\n",
       "    border-collapse: collapse;\n",
       "  }\n",
       "  th, td {\n",
       "    padding: 5px;\n",
       "  }\n",
       "  th {\n",
       "    text-align: left;\n",
       "  }\n",
       "</style><div class='table-result-container'><table class='table-result'><thead style='background-color: white'><tr><th>empid</th><th>name</th><th>salary</th><th>Designation</th></tr></thead><tbody><tr><td>1</td><td>a</td><td>10000</td><td>Employee</td></tr><tr><td>2</td><td>b</td><td>5000</td><td>Employee</td></tr><tr><td>3</td><td>c</td><td>15000</td><td>Manager</td></tr><tr><td>4</td><td>d</td><td>25000</td><td>Manager</td></tr><tr><td>5</td><td>e</td><td>50000</td><td>Manager</td></tr><tr><td>6</td><td>f</td><td>7000</td><td>Employee</td></tr></tbody></table></div>"
      ]
     },
     "metadata": {
      "application/vnd.databricks.v1+output": {
       "addedWidgets": {},
       "aggData": [],
       "aggError": "",
       "aggOverflow": false,
       "aggSchema": [],
       "aggSeriesLimitReached": false,
       "aggType": "",
       "arguments": {},
       "columnCustomDisplayInfos": {},
       "data": [
        [
         "1",
         "a",
         "10000",
         "Employee"
        ],
        [
         "2",
         "b",
         "5000",
         "Employee"
        ],
        [
         "3",
         "c",
         "15000",
         "Manager"
        ],
        [
         "4",
         "d",
         "25000",
         "Manager"
        ],
        [
         "5",
         "e",
         "50000",
         "Manager"
        ],
        [
         "6",
         "f",
         "7000",
         "Employee"
        ]
       ],
       "datasetInfos": [],
       "dbfsResultPath": null,
       "isJsonSchema": true,
       "metadata": {},
       "overflow": false,
       "plotOptions": {
        "customPlotOptions": {},
        "displayType": "table",
        "pivotAggregation": null,
        "pivotColumns": null,
        "xColumns": null,
        "yColumns": null
       },
       "removedWidgets": [],
       "schema": [
        {
         "metadata": "{}",
         "name": "empid",
         "type": "\"string\""
        },
        {
         "metadata": "{}",
         "name": "name",
         "type": "\"string\""
        },
        {
         "metadata": "{}",
         "name": "salary",
         "type": "\"string\""
        },
        {
         "metadata": "{}",
         "name": "Designation",
         "type": "\"string\""
        }
       ],
       "type": "table"
      }
     },
     "output_type": "display_data"
    }
   ],
   "source": [
    "from pyspark.sql.functions import *\n",
    "from pyspark.sql.window import *\n",
    "\n",
    "DF_SC5_Result = DF_SC5.withColumn(\"Designation\" , when(col(\"salary\") > 10000 , \"Manager\").otherwise(\"Employee\"))\n",
    "display(DF_SC5_Result)"
   ]
  }
 ],
 "metadata": {
  "application/vnd.databricks.v1+notebook": {
   "computePreferences": null,
   "dashboards": [],
   "environmentMetadata": {
    "base_environment": "",
    "environment_version": "1"
   },
   "inputWidgetPreferences": null,
   "language": "python",
   "notebookMetadata": {
    "pythonIndentUnit": 4
   },
   "notebookName": "Pyspark_Scenariobased_Coding_1",
   "widgets": {}
  }
 },
 "nbformat": 4,
 "nbformat_minor": 0
}