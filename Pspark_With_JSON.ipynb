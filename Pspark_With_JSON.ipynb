{
 "cells": [
  {
   "cell_type": "code",
   "execution_count": 0,
   "metadata": {
    "application/vnd.databricks.v1+cell": {
     "cellMetadata": {
      "byteLimit": 2048000,
      "rowLimit": 10000
     },
     "inputWidgets": {},
     "nuid": "3718b2e8-a52d-4702-a0f2-7dde88814bbe",
     "showTitle": false,
     "tableResultSettingsMap": {},
     "title": ""
    }
   },
   "outputs": [],
   "source": [
    "spark.conf.set( \"fs.azure.account.key.azuredlssup07.dfs.core.windows.net\",\n",
    "  \"VVJVYkrDcgJhspZ/iCp3U9C6YBgXCHY41gdZs2RUhI7n5FRfCJx64hYObzOkqslHNOUEj+enQMeW+AStabwgSw==\")"
   ]
  },
  {
   "cell_type": "code",
   "execution_count": 0,
   "metadata": {
    "application/vnd.databricks.v1+cell": {
     "cellMetadata": {
      "byteLimit": 2048000,
      "rowLimit": 10000
     },
     "inputWidgets": {},
     "nuid": "a5b035cb-f4e2-414f-942b-5456c6313904",
     "showTitle": false,
     "tableResultSettingsMap": {},
     "title": ""
    }
   },
   "outputs": [],
   "source": [
    "dbutils.fs.mount(\n",
    "  source = \"wasbs://azuredls07@azuredlssup07.blob.core.windows.net\",\n",
    "  mount_point = \"/mnt/AzureAccount\",\n",
    "  extra_configs = {\"fs.azure.account.key.azuredlssup07.blob.core.windows.net\":\"VVJVYkrDcgJhspZ/iCp3U9C6YBgXCHY41gdZs2RUhI7n5FRfCJx64hYObzOkqslHNOUEj+enQMeW+AStabwgSw==\"})"
   ]
  },
  {
   "cell_type": "code",
   "execution_count": 0,
   "metadata": {
    "application/vnd.databricks.v1+cell": {
     "cellMetadata": {
      "byteLimit": 2048000,
      "rowLimit": 10000
     },
     "inputWidgets": {},
     "nuid": "1cbaa387-8806-4482-a15f-142809bf7b9a",
     "showTitle": false,
     "tableResultSettingsMap": {},
     "title": ""
    }
   },
   "outputs": [],
   "source": [
    "dbutils.fs.ls(\"/mnt/AzureAccount/\")"
   ]
  },
  {
   "cell_type": "code",
   "execution_count": 0,
   "metadata": {
    "application/vnd.databricks.v1+cell": {
     "cellMetadata": {
      "byteLimit": 2048000,
      "rowLimit": 10000
     },
     "inputWidgets": {},
     "nuid": "277dd9b1-6dba-4326-a852-862a43039fcf",
     "showTitle": false,
     "tableResultSettingsMap": {},
     "title": ""
    }
   },
   "outputs": [],
   "source": [
    "import json\n",
    "\n",
    "Json_Data_File = open(\"/dbfs/mnt/AzureAccount/Pyspark_With_Json/dwsample3.json\",\"rb\")\n",
    "Json_Data = json.loads(\"/mnt/AzureAccount/Pyspark_With_Json/dwsample3.json\")\n",
    "print(Json_Data)"
   ]
  },
  {
   "cell_type": "code",
   "execution_count": 0,
   "metadata": {
    "application/vnd.databricks.v1+cell": {
     "cellMetadata": {
      "byteLimit": 2048000,
      "rowLimit": 10000
     },
     "inputWidgets": {},
     "nuid": "6067832a-430a-4f9e-94a9-a27a330f9149",
     "showTitle": false,
     "tableResultSettingsMap": {},
     "title": ""
    }
   },
   "outputs": [],
   "source": [
    "File_Path = 'abfss://azuredls07@azuredlssup07.dfs.core.windows.net/Pyspark_With_Json/dwsample3.json'\n",
    "Json_DF_Updated = spark.read.format(\"json\").option(\"multiline\",True).load(File_Path)"
   ]
  },
  {
   "cell_type": "code",
   "execution_count": 0,
   "metadata": {
    "application/vnd.databricks.v1+cell": {
     "cellMetadata": {
      "byteLimit": 2048000,
      "rowLimit": 10000
     },
     "inputWidgets": {},
     "nuid": "c2ea0d4e-37b9-4935-8b66-9530b21a48e6",
     "showTitle": false,
     "tableResultSettingsMap": {},
     "title": ""
    }
   },
   "outputs": [],
   "source": [
    "display(Json_DF_Updated)"
   ]
  },
  {
   "cell_type": "code",
   "execution_count": 0,
   "metadata": {
    "application/vnd.databricks.v1+cell": {
     "cellMetadata": {
      "byteLimit": 2048000,
      "rowLimit": 10000
     },
     "inputWidgets": {},
     "nuid": "57457888-39fb-46b8-b45c-4f041b419b81",
     "showTitle": false,
     "tableResultSettingsMap": {},
     "title": ""
    }
   },
   "outputs": [],
   "source": [
    "from pyspark.sql.functions import explode_outer\n",
    "\n",
    "Json_Final = Json_DF_Updated.select(\"address.*\",\"age\",\"firstName\",\"gender\",\"lastname\",explode_outer(Json_DF_Updated.phoneNumbers).alias(\"PhoneNumber_Updated\"))\n",
    "Json_Final.show()"
   ]
  },
  {
   "cell_type": "code",
   "execution_count": 0,
   "metadata": {
    "application/vnd.databricks.v1+cell": {
     "cellMetadata": {
      "byteLimit": 2048000,
      "rowLimit": 10000
     },
     "inputWidgets": {},
     "nuid": "5cb75878-fd72-4a39-bac4-fc088a59c596",
     "showTitle": false,
     "tableResultSettingsMap": {},
     "title": ""
    }
   },
   "outputs": [],
   "source": [
    "# display(Json_Final)\n",
    "Json_Final.select(\"city\",\"postalCode\",\"state\",\"streetAddress\",\"age\",\"firstName\",\"gender\",\"lastname\",\"PhoneNumber_Updated.*\").show()\n"
   ]
  },
  {
   "cell_type": "code",
   "execution_count": 0,
   "metadata": {
    "application/vnd.databricks.v1+cell": {
     "cellMetadata": {
      "byteLimit": 2048000,
      "rowLimit": 10000
     },
     "inputWidgets": {},
     "nuid": "a536de17-0eaa-405c-babf-5a952dc0cf84",
     "showTitle": false,
     "tableResultSettingsMap": {},
     "title": ""
    }
   },
   "outputs": [],
   "source": [
    "Json_Sample_DF_2 = spark.read.format(\"json\").option(\"multiline\",True).load(\"/mnt/AzureAccount/Pyspark_With_Json/sample.json\")\n",
    "display(Json_Sample_DF_2)"
   ]
  },
  {
   "cell_type": "code",
   "execution_count": 0,
   "metadata": {
    "application/vnd.databricks.v1+cell": {
     "cellMetadata": {
      "byteLimit": 2048000,
      "rowLimit": 10000
     },
     "inputWidgets": {},
     "nuid": "668ca3dd-0e91-4dcd-9d9a-696739578be3",
     "showTitle": false,
     "tableResultSettingsMap": {},
     "title": ""
    }
   },
   "outputs": [],
   "source": [
    "JSON_TEMP = Json_Sample_DF_2.select(\"CHECK\",\"COL\",explode_outer(Json_Sample_DF_2.DATA).alias(\"Temp\"),\"IFAM\",\"KTM\")\n",
    "display(JSON_TEMP)"
   ]
  },
  {
   "cell_type": "code",
   "execution_count": 0,
   "metadata": {
    "application/vnd.databricks.v1+cell": {
     "cellMetadata": {
      "byteLimit": 2048000,
      "rowLimit": 10000
     },
     "inputWidgets": {},
     "nuid": "b75df4dc-117e-45af-b643-28b083b2ca85",
     "showTitle": false,
     "tableResultSettingsMap": {},
     "title": ""
    }
   },
   "outputs": [],
   "source": [
    "JSON_TEMP1 = JSON_TEMP.select(\"CHECK.*\",\"COL\",\"Temp\",\"IFAM\",\"KTM\").show()"
   ]
  },
  {
   "cell_type": "code",
   "execution_count": 0,
   "metadata": {
    "application/vnd.databricks.v1+cell": {
     "cellMetadata": {
      "byteLimit": 2048000,
      "rowLimit": 10000
     },
     "inputWidgets": {},
     "nuid": "9b98fa7f-e6b8-4cdb-b54d-56574709f2a1",
     "showTitle": false,
     "tableResultSettingsMap": {},
     "title": ""
    }
   },
   "outputs": [],
   "source": [
    "from pyspark.sql.types import StructType , StructField ,StringType,IntegerType\n",
    "from pyspark.sql.functions import from_json, col\n",
    "\n",
    "PhoneNumbers_schema = StructType([\n",
    "    StructField(\"Number\" , IntegerType()),\n",
    "    StructField(\"home\" ,StringType())\n",
    "])\n",
    "\n",
    "Json_DF_Updated.withColumn(\"phoneNumbers_updated\",from_json(col(\"phoneNumbers\"),PhoneNumbers_schema))\n",
    "Json_DF_Updated.drop(\"phoneNumbers\")\n",
    "Json_DF_Updated.show()"
   ]
  },
  {
   "cell_type": "code",
   "execution_count": 0,
   "metadata": {
    "application/vnd.databricks.v1+cell": {
     "cellMetadata": {
      "byteLimit": 2048000,
      "rowLimit": 10000
     },
     "inputWidgets": {},
     "nuid": "f44fbd61-f8d8-43fd-80c9-a886c26e6ba8",
     "showTitle": false,
     "tableResultSettingsMap": {},
     "title": ""
    }
   },
   "outputs": [],
   "source": [
    "dbutils.fs.ls('abfss://azuredls07@azuredlssup07.dfs.core.windows.net/Pyspark_With_Json/dwsample3.json')"
   ]
  },
  {
   "cell_type": "code",
   "execution_count": 0,
   "metadata": {
    "application/vnd.databricks.v1+cell": {
     "cellMetadata": {
      "byteLimit": 2048000,
      "rowLimit": 10000
     },
     "inputWidgets": {},
     "nuid": "ee8e3776-c8e8-4f69-b761-28996d5e101f",
     "showTitle": false,
     "tableResultSettingsMap": {},
     "title": ""
    }
   },
   "outputs": [],
   "source": [
    "import json\n",
    "\n",
    "# File_Path = 'abfss://azuredls07@azuredlssup07.dfs.core.windows.net/Pyspark_With_Json/dwsample3.json'\n",
    "# File_Path_Url = \"https://azuredlssup07.blob.core.windows.net/azuredls07/Pyspark_With_Json/dwsample3.json\"\n",
    "dbutils.fs.put(\"/temp/Json_Sample_Data.json\",\n",
    "                \"/dbfs/mnt/AzureAccount/Pyspark_With_Json/dwsample3.json\", True)\n",
    "Json_Data = open(\"/temp/Json_Sample_Data.json\", \"rb\")\n",
    "Json_data_Dict = json.loads(Json_Data.read())\n",
    "print(Json_data_Dict)"
   ]
  }
 ],
 "metadata": {
  "application/vnd.databricks.v1+notebook": {
   "dashboards": [],
   "environmentMetadata": null,
   "language": "python",
   "notebookMetadata": {
    "pythonIndentUnit": 4
   },
   "notebookName": "Pspark_With_JSON",
   "widgets": {}
  }
 },
 "nbformat": 4,
 "nbformat_minor": 0
}
